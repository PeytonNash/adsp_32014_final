{
 "cells": [
  {
   "cell_type": "markdown",
   "id": "e365757f-23f4-4452-9392-146f43a3144a",
   "metadata": {},
   "source": [
    "# ADSP 32014 Final Project"
   ]
  },
  {
   "cell_type": "markdown",
   "id": "6e7b1784-f0be-4eed-84a3-105b57b703f1",
   "metadata": {},
   "source": [
    "### Setup"
   ]
  },
  {
   "cell_type": "code",
   "execution_count": 1,
   "id": "0857fe31-0a73-466c-8126-b7c8da4e5587",
   "metadata": {},
   "outputs": [],
   "source": [
    "# Import packages\n",
    "import pandas as pd\n",
    "import numpy as np\n",
    "import matplotlib.pyplot as plt\n",
    "\n",
    "import pymc as pm\n",
    "#import aesara.tensor as at\n",
    "import arviz as az\n",
    "\n",
    "from sklearn.model_selection import train_test_split\n",
    "from sklearn.preprocessing import StandardScaler\n",
    "from sklearn.metrics import mean_squared_error, root_mean_squared_error, mean_absolute_error\n",
    "\n",
    "import os\n",
    "import warnings\n",
    "warnings.filterwarnings(\"ignore\")"
   ]
  },
  {
   "cell_type": "code",
   "execution_count": 2,
   "id": "f9f79b27-4b86-4227-9131-02b601125f1c",
   "metadata": {},
   "outputs": [],
   "source": [
    "# Load the data\n",
    "user_artists = pd.read_csv('./Data/user_artists.dat', sep='\\t',\n",
    "                           names=['userID', 'artistID', 'listen_count'], skiprows=1)\n",
    "artists = pd.read_csv('./Data/artists.dat', sep='\\t',\n",
    "                      names=['artistID', 'name', 'url', 'pictureURL'],\n",
    "                      encoding='latin-1', skiprows=1)"
   ]
  },
  {
   "cell_type": "markdown",
   "id": "544aa242-0dc6-43e8-8ee9-ce135f96c7a3",
   "metadata": {},
   "source": [
    "### EDA"
   ]
  },
  {
   "cell_type": "markdown",
   "id": "3d75134b-6ad1-41d6-b680-69111d2d3a1f",
   "metadata": {},
   "source": [
    "#### Artists Data"
   ]
  },
  {
   "cell_type": "code",
   "execution_count": 3,
   "id": "181760d7-d856-4f45-af51-a85d0b95de44",
   "metadata": {},
   "outputs": [
    {
     "data": {
      "text/html": [
       "<div>\n",
       "<style scoped>\n",
       "    .dataframe tbody tr th:only-of-type {\n",
       "        vertical-align: middle;\n",
       "    }\n",
       "\n",
       "    .dataframe tbody tr th {\n",
       "        vertical-align: top;\n",
       "    }\n",
       "\n",
       "    .dataframe thead th {\n",
       "        text-align: right;\n",
       "    }\n",
       "</style>\n",
       "<table border=\"1\" class=\"dataframe\">\n",
       "  <thead>\n",
       "    <tr style=\"text-align: right;\">\n",
       "      <th></th>\n",
       "      <th>artistID</th>\n",
       "      <th>name</th>\n",
       "      <th>url</th>\n",
       "      <th>pictureURL</th>\n",
       "    </tr>\n",
       "  </thead>\n",
       "  <tbody>\n",
       "    <tr>\n",
       "      <th>0</th>\n",
       "      <td>1</td>\n",
       "      <td>MALICE MIZER</td>\n",
       "      <td>http://www.last.fm/music/MALICE+MIZER</td>\n",
       "      <td>http://userserve-ak.last.fm/serve/252/10808.jpg</td>\n",
       "    </tr>\n",
       "    <tr>\n",
       "      <th>1</th>\n",
       "      <td>2</td>\n",
       "      <td>Diary of Dreams</td>\n",
       "      <td>http://www.last.fm/music/Diary+of+Dreams</td>\n",
       "      <td>http://userserve-ak.last.fm/serve/252/3052066.jpg</td>\n",
       "    </tr>\n",
       "    <tr>\n",
       "      <th>2</th>\n",
       "      <td>3</td>\n",
       "      <td>Carpathian Forest</td>\n",
       "      <td>http://www.last.fm/music/Carpathian+Forest</td>\n",
       "      <td>http://userserve-ak.last.fm/serve/252/40222717...</td>\n",
       "    </tr>\n",
       "    <tr>\n",
       "      <th>3</th>\n",
       "      <td>4</td>\n",
       "      <td>Moi dix Mois</td>\n",
       "      <td>http://www.last.fm/music/Moi+dix+Mois</td>\n",
       "      <td>http://userserve-ak.last.fm/serve/252/54697835...</td>\n",
       "    </tr>\n",
       "    <tr>\n",
       "      <th>4</th>\n",
       "      <td>5</td>\n",
       "      <td>Bella Morte</td>\n",
       "      <td>http://www.last.fm/music/Bella+Morte</td>\n",
       "      <td>http://userserve-ak.last.fm/serve/252/14789013...</td>\n",
       "    </tr>\n",
       "  </tbody>\n",
       "</table>\n",
       "</div>"
      ],
      "text/plain": [
       "   artistID               name                                         url  \\\n",
       "0         1       MALICE MIZER       http://www.last.fm/music/MALICE+MIZER   \n",
       "1         2    Diary of Dreams    http://www.last.fm/music/Diary+of+Dreams   \n",
       "2         3  Carpathian Forest  http://www.last.fm/music/Carpathian+Forest   \n",
       "3         4       Moi dix Mois       http://www.last.fm/music/Moi+dix+Mois   \n",
       "4         5        Bella Morte        http://www.last.fm/music/Bella+Morte   \n",
       "\n",
       "                                          pictureURL  \n",
       "0    http://userserve-ak.last.fm/serve/252/10808.jpg  \n",
       "1  http://userserve-ak.last.fm/serve/252/3052066.jpg  \n",
       "2  http://userserve-ak.last.fm/serve/252/40222717...  \n",
       "3  http://userserve-ak.last.fm/serve/252/54697835...  \n",
       "4  http://userserve-ak.last.fm/serve/252/14789013...  "
      ]
     },
     "execution_count": 3,
     "metadata": {},
     "output_type": "execute_result"
    }
   ],
   "source": [
    "artists.head()"
   ]
  },
  {
   "cell_type": "markdown",
   "id": "9d88f061-7793-4533-80b8-e43b99221f26",
   "metadata": {},
   "source": [
    "#### User/Artist Data"
   ]
  },
  {
   "cell_type": "code",
   "execution_count": 4,
   "id": "590e1dc7-3958-4906-920d-c75f9d0471e5",
   "metadata": {},
   "outputs": [
    {
     "data": {
      "text/html": [
       "<div>\n",
       "<style scoped>\n",
       "    .dataframe tbody tr th:only-of-type {\n",
       "        vertical-align: middle;\n",
       "    }\n",
       "\n",
       "    .dataframe tbody tr th {\n",
       "        vertical-align: top;\n",
       "    }\n",
       "\n",
       "    .dataframe thead th {\n",
       "        text-align: right;\n",
       "    }\n",
       "</style>\n",
       "<table border=\"1\" class=\"dataframe\">\n",
       "  <thead>\n",
       "    <tr style=\"text-align: right;\">\n",
       "      <th></th>\n",
       "      <th>userID</th>\n",
       "      <th>artistID</th>\n",
       "      <th>listen_count</th>\n",
       "    </tr>\n",
       "  </thead>\n",
       "  <tbody>\n",
       "    <tr>\n",
       "      <th>0</th>\n",
       "      <td>2</td>\n",
       "      <td>51</td>\n",
       "      <td>13883</td>\n",
       "    </tr>\n",
       "    <tr>\n",
       "      <th>1</th>\n",
       "      <td>2</td>\n",
       "      <td>52</td>\n",
       "      <td>11690</td>\n",
       "    </tr>\n",
       "    <tr>\n",
       "      <th>2</th>\n",
       "      <td>2</td>\n",
       "      <td>53</td>\n",
       "      <td>11351</td>\n",
       "    </tr>\n",
       "    <tr>\n",
       "      <th>3</th>\n",
       "      <td>2</td>\n",
       "      <td>54</td>\n",
       "      <td>10300</td>\n",
       "    </tr>\n",
       "    <tr>\n",
       "      <th>4</th>\n",
       "      <td>2</td>\n",
       "      <td>55</td>\n",
       "      <td>8983</td>\n",
       "    </tr>\n",
       "  </tbody>\n",
       "</table>\n",
       "</div>"
      ],
      "text/plain": [
       "   userID  artistID  listen_count\n",
       "0       2        51         13883\n",
       "1       2        52         11690\n",
       "2       2        53         11351\n",
       "3       2        54         10300\n",
       "4       2        55          8983"
      ]
     },
     "execution_count": 4,
     "metadata": {},
     "output_type": "execute_result"
    }
   ],
   "source": [
    "# Check the user/artist file\n",
    "user_artists.head()"
   ]
  },
  {
   "cell_type": "code",
   "execution_count": 5,
   "id": "436d98cc-0964-44ab-b7bc-d6890039a05f",
   "metadata": {},
   "outputs": [
    {
     "name": "stdout",
     "output_type": "stream",
     "text": [
      "User/artists dimensions: (92834, 3)\n",
      "Minimum number of listens: 1\n",
      "Maximum number of listens: 352698\n"
     ]
    }
   ],
   "source": [
    "# Check the dimensions\n",
    "print(f'User/artists dimensions: {user_artists.shape}')\n",
    "\n",
    "# Check the minimum and maximum of the listen_count\n",
    "print(f'Minimum number of listens: {user_artists.listen_count.min()}')\n",
    "print(f'Maximum number of listens: {user_artists.listen_count.max()}')"
   ]
  },
  {
   "cell_type": "code",
   "execution_count": 6,
   "id": "629179a7-c148-4967-a348-6b82a4f2d47a",
   "metadata": {},
   "outputs": [
    {
     "data": {
      "image/png": "[encoded data removed]",
      "text/plain": [
       "<Figure size 1200x500 with 1 Axes>"
      ]
     },
     "metadata": {},
     "output_type": "display_data"
    }
   ],
   "source": [
    "# Check the distribution of the number of listens\n",
    "plt.figure(figsize = (12,5))\n",
    "plt.hist(user_artists[user_artists['listen_count'] < 6000]['listen_count'], bins = 20)\n",
    "plt.show()"
   ]
  },
  {
   "cell_type": "code",
   "execution_count": 7,
   "id": "a5c7d238-832f-4675-bda2-4769b27fb219",
   "metadata": {},
   "outputs": [
    {
     "data": {
      "text/html": [
       "<div>\n",
       "<style scoped>\n",
       "    .dataframe tbody tr th:only-of-type {\n",
       "        vertical-align: middle;\n",
       "    }\n",
       "\n",
       "    .dataframe tbody tr th {\n",
       "        vertical-align: top;\n",
       "    }\n",
       "\n",
       "    .dataframe thead th {\n",
       "        text-align: right;\n",
       "    }\n",
       "</style>\n",
       "<table border=\"1\" class=\"dataframe\">\n",
       "  <thead>\n",
       "    <tr style=\"text-align: right;\">\n",
       "      <th></th>\n",
       "      <th>name</th>\n",
       "      <th>listen_count</th>\n",
       "    </tr>\n",
       "  </thead>\n",
       "  <tbody>\n",
       "    <tr>\n",
       "      <th>0</th>\n",
       "      <td>Britney Spears</td>\n",
       "      <td>2393140</td>\n",
       "    </tr>\n",
       "    <tr>\n",
       "      <th>1</th>\n",
       "      <td>Depeche Mode</td>\n",
       "      <td>1301308</td>\n",
       "    </tr>\n",
       "    <tr>\n",
       "      <th>2</th>\n",
       "      <td>Lady Gaga</td>\n",
       "      <td>1291387</td>\n",
       "    </tr>\n",
       "    <tr>\n",
       "      <th>3</th>\n",
       "      <td>Christina Aguilera</td>\n",
       "      <td>1058405</td>\n",
       "    </tr>\n",
       "    <tr>\n",
       "      <th>4</th>\n",
       "      <td>Paramore</td>\n",
       "      <td>963449</td>\n",
       "    </tr>\n",
       "    <tr>\n",
       "      <th>5</th>\n",
       "      <td>Madonna</td>\n",
       "      <td>921198</td>\n",
       "    </tr>\n",
       "    <tr>\n",
       "      <th>6</th>\n",
       "      <td>Rihanna</td>\n",
       "      <td>905423</td>\n",
       "    </tr>\n",
       "    <tr>\n",
       "      <th>7</th>\n",
       "      <td>Shakira</td>\n",
       "      <td>688529</td>\n",
       "    </tr>\n",
       "    <tr>\n",
       "      <th>8</th>\n",
       "      <td>The Beatles</td>\n",
       "      <td>662116</td>\n",
       "    </tr>\n",
       "    <tr>\n",
       "      <th>9</th>\n",
       "      <td>Katy Perry</td>\n",
       "      <td>532545</td>\n",
       "    </tr>\n",
       "    <tr>\n",
       "      <th>10</th>\n",
       "      <td>Avril Lavigne</td>\n",
       "      <td>525844</td>\n",
       "    </tr>\n",
       "    <tr>\n",
       "      <th>11</th>\n",
       "      <td>Taylor Swift</td>\n",
       "      <td>525292</td>\n",
       "    </tr>\n",
       "    <tr>\n",
       "      <th>12</th>\n",
       "      <td>Evanescence</td>\n",
       "      <td>513476</td>\n",
       "    </tr>\n",
       "    <tr>\n",
       "      <th>13</th>\n",
       "      <td>Glee Cast</td>\n",
       "      <td>506453</td>\n",
       "    </tr>\n",
       "    <tr>\n",
       "      <th>14</th>\n",
       "      <td>BeyoncÃ©</td>\n",
       "      <td>499318</td>\n",
       "    </tr>\n",
       "    <tr>\n",
       "      <th>15</th>\n",
       "      <td>U2</td>\n",
       "      <td>493024</td>\n",
       "    </tr>\n",
       "    <tr>\n",
       "      <th>16</th>\n",
       "      <td>Miley Cyrus</td>\n",
       "      <td>489065</td>\n",
       "    </tr>\n",
       "    <tr>\n",
       "      <th>17</th>\n",
       "      <td>30 Seconds to Mars</td>\n",
       "      <td>485532</td>\n",
       "    </tr>\n",
       "    <tr>\n",
       "      <th>18</th>\n",
       "      <td>Muse</td>\n",
       "      <td>485076</td>\n",
       "    </tr>\n",
       "    <tr>\n",
       "      <th>19</th>\n",
       "      <td>Pink Floyd</td>\n",
       "      <td>466104</td>\n",
       "    </tr>\n",
       "  </tbody>\n",
       "</table>\n",
       "</div>"
      ],
      "text/plain": [
       "                  name  listen_count\n",
       "0       Britney Spears       2393140\n",
       "1         Depeche Mode       1301308\n",
       "2            Lady Gaga       1291387\n",
       "3   Christina Aguilera       1058405\n",
       "4             Paramore        963449\n",
       "5              Madonna        921198\n",
       "6              Rihanna        905423\n",
       "7              Shakira        688529\n",
       "8          The Beatles        662116\n",
       "9           Katy Perry        532545\n",
       "10       Avril Lavigne        525844\n",
       "11        Taylor Swift        525292\n",
       "12         Evanescence        513476\n",
       "13           Glee Cast        506453\n",
       "14            BeyoncÃ©        499318\n",
       "15                  U2        493024\n",
       "16         Miley Cyrus        489065\n",
       "17  30 Seconds to Mars        485532\n",
       "18                Muse        485076\n",
       "19          Pink Floyd        466104"
      ]
     },
     "execution_count": 7,
     "metadata": {},
     "output_type": "execute_result"
    }
   ],
   "source": [
    "ua = user_artists.merge(artists[['artistID', 'name']], on='artistID', how='left')\n",
    "\n",
    "top_artists = ua.groupby('name')['listen_count'].sum().sort_values(ascending=False).head(20).reset_index()\n",
    "\n",
    "top_artists"
   ]
  },
  {
   "cell_type": "markdown",
   "id": "8ff9c7c3-27f1-4e3b-afef-1e232c7b1acb",
   "metadata": {},
   "source": [
    "### Data Preparation"
   ]
  },
  {
   "cell_type": "code",
   "execution_count": 11,
   "id": "a2ea7745-4b87-4929-8660-cd3e54a1f265",
   "metadata": {},
   "outputs": [],
   "source": [
    "# Map user and artist IDs to indices\n",
    "u_id = user_artists['userID'].unique()\n",
    "a_id = user_artists['artistID'].unique()\n",
    "user_map = {u: i for i, u in enumerate(u_id)}\n",
    "artist_map = {a: i for i, a in enumerate(a_id)}\n",
    "\n",
    "# Create index columns\n",
    "user_artists['u_idx'] = user_artists['userID'].map(user_map)\n",
    "user_artists['a_idx'] = user_artists['artistID'].map(artist_map)\n",
    "\n",
    "# Log-transform the weights to reduce skew\n",
    "user_artists['log_count'] = np.log1p(user_artists['listen_count'])\n",
    "\n",
    "# Prepare arrays for modeling\n",
    "u_idx = user_artists['u_idx'].values\n",
    "a_idx = user_artists['a_idx'].values\n",
    "count = user_artists['listen_count'].values\n",
    "log_count = user_artists['log_count'].values"
   ]
  },
  {
   "cell_type": "code",
   "execution_count": 33,
   "id": "406c8065-a46c-4aff-9dc0-1432292debd4",
   "metadata": {},
   "outputs": [],
   "source": [
    "# Split indices for train/test\n",
    "train_idx, test_idx = train_test_split(\n",
    "    np.arange(len(count)), test_size=0.2, random_state=42\n",
    ")\n",
    "\n",
    "# Training data\n",
    "train_u_idx = u_idx[train_idx]\n",
    "train_a_idx = a_idx[train_idx]\n",
    "train_count = count[train_idx]\n",
    "train_log_count = log_count[train_idx]\n",
    "\n",
    "# Test data\n",
    "test_u_idx = u_idx[test_idx]\n",
    "test_a_idx = a_idx[test_idx]\n",
    "test_count = count[test_idx]\n",
    "test_log_count = log_count[test_idx]\n"
   ]
  },
  {
   "cell_type": "code",
   "execution_count": 14,
   "id": "ac58106c-5163-4b40-b774-b7d60f0024ef",
   "metadata": {},
   "outputs": [
    {
     "name": "stdout",
     "output_type": "stream",
     "text": [
      "Training length: 1187621\n",
      "Test length: 297367\n"
     ]
    }
   ],
   "source": [
    "# Confirm the dimensions of the train/test are as expected\n",
    "print(f'Training length: {long_train.shape[0]}')\n",
    "print(f'Test length: {long_test.shape[0]}')"
   ]
  },
  {
   "cell_type": "markdown",
   "id": "fa446c50-1a09-4518-bf2d-527f57fb5d27",
   "metadata": {},
   "source": [
    "### Train Model"
   ]
  },
  {
   "cell_type": "code",
   "execution_count": 45,
   "id": "5ae9a46a-1ec7-43f6-bcf0-4913b691df12",
   "metadata": {},
   "outputs": [
    {
     "name": "stdout",
     "output_type": "stream",
     "text": [
      "Mean: 745.2439300256372\n",
      "Variance: 14072265.763914132\n"
     ]
    }
   ],
   "source": [
    "# Check for overdispersion in the count data\n",
    "mean = count.mean()\n",
    "var = count.var()\n",
    "\n",
    "print(f'Mean: {mean}')\n",
    "print(f'Variance: {var}')"
   ]
  },
  {
   "cell_type": "markdown",
   "id": "4370da7a-3fe6-485d-bd92-2a32b51c409d",
   "metadata": {},
   "source": [
    "I compare the mean and variance to test for overdispersion because the Poisson distribution has $\\mu = \\sigma$. Because there is overdispersion, using a Poisson likelihood is not realistic. I use a begative binomial likelihood instead, which is more computationally intensive."
   ]
  },
  {
   "cell_type": "code",
   "execution_count": 40,
   "id": "574c4a62-467d-4471-af21-4a4fabf410d8",
   "metadata": {},
   "outputs": [
    {
     "data": {
      "application/vnd.jupyter.widget-view+json": {
       "model_id": "b5e49fbf2a804295b063a5df0cab2bb8",
       "version_major": 2,
       "version_minor": 0
      },
      "text/plain": [
       "Output()"
      ]
     },
     "metadata": {},
     "output_type": "display_data"
    },
    {
     "data": {
      "text/html": [
       "<pre style=\"white-space:pre;overflow-x:auto;line-height:normal;font-family:Menlo,'DejaVu Sans Mono',consolas,'Courier New',monospace\"></pre>\n"
      ],
      "text/plain": []
     },
     "metadata": {},
     "output_type": "display_data"
    },
    {
     "name": "stderr",
     "output_type": "stream",
     "text": [
      "Finished [100%]: Average Loss = 6.5128e+05\n"
     ]
    }
   ],
   "source": [
    "# Define the number of latent variables and the dimensions of U and V\n",
    "n_latent = 5\n",
    "n_users = len(u_id)\n",
    "n_artists = len(a_id)\n",
    "\n",
    "with pm.Model() as bpmf_advi:\n",
    "    # Hyperpriors\n",
    "    mu_u = pm.Normal('mu_u', mu=0, sigma=1, shape=n_latent)\n",
    "    mu_v = pm.Normal('mu_v', mu=0, sigma=1, shape=n_latent)\n",
    "    sigma_u = pm.HalfNormal('sigma_u', sigma=1)\n",
    "    sigma_v = pm.HalfNormal('sigma_v', sigma=1)\n",
    "\n",
    "    # Create U and V latent factors\n",
    "    U = pm.Normal('U', mu = mu_u, sigma=sigma_u, shape=(n_users, n_latent))\n",
    "    V = pm.Normal('V', mu = mu_u, sigma=sigma_u, shape=(n_artists, n_latent))\n",
    "    \n",
    "    # Observation noise\n",
    "    alpha = pm.HalfNormal('alpha', sigma=1)\n",
    "\n",
    "    # Dot product predicted ratings\n",
    "    mu = pm.math.sum(U[u_idx] * V[a_idx], axis=1)\n",
    "\n",
    "    # Likelihood - using negative so that we do not have to distort the value of 0 listens by logging\n",
    "    R_obs = pm.NegativeBinomial('R_obs', mu=pm.math.exp(mu), alpha=alpha, observed=count)\n",
    "\n",
    "    # Approximate the posterior\n",
    "    approx = pm.fit(n=50000, method='advi')\n",
    "\n",
    "    # Draw samples from the posterior\n",
    "    trace_advi = approx.sample(draws=1000)\n",
    "\n",
    "    # ELBO history\n",
    "    elbos = approx.hist"
   ]
  },
  {
   "cell_type": "code",
   "execution_count": 20,
   "id": "217c5ba6-ac09-49e1-b54c-ef6fcceadf8a",
   "metadata": {},
   "outputs": [
    {
     "data": {
      "text/plain": [
       "'nb_trace_nz.nc'"
      ]
     },
     "execution_count": 20,
     "metadata": {},
     "output_type": "execute_result"
    }
   ],
   "source": [
    "az.to_netcdf(trace_advi, 'nb_trace_nz_5k.nc')"
   ]
  },
  {
   "cell_type": "code",
   "execution_count": 23,
   "id": "4afa964d-288b-4243-81f4-b44f673eae28",
   "metadata": {},
   "outputs": [
    {
     "name": "stderr",
     "output_type": "stream",
     "text": [
      "arviz - WARNING - Shape validation failed: input_shape: (1, 1000), minimum_shape: (chains=2, draws=4)\n"
     ]
    },
    {
     "ename": "KeyboardInterrupt",
     "evalue": "",
     "output_type": "error",
     "traceback": [
      "\u001b[31m---------------------------------------------------------------------------\u001b[39m",
      "\u001b[31mKeyboardInterrupt\u001b[39m                         Traceback (most recent call last)",
      "\u001b[36mCell\u001b[39m\u001b[36m \u001b[39m\u001b[32mIn[23]\u001b[39m\u001b[32m, line 2\u001b[39m\n\u001b[32m      1\u001b[39m az.plot_trace(trace_advi, var_names=[\u001b[33m'\u001b[39m\u001b[33malpha\u001b[39m\u001b[33m'\u001b[39m])\n\u001b[32m----> \u001b[39m\u001b[32m2\u001b[39m \u001b[43maz\u001b[49m\u001b[43m.\u001b[49m\u001b[43msummary\u001b[49m\u001b[43m(\u001b[49m\u001b[43mtrace_advi\u001b[49m\u001b[43m,\u001b[49m\u001b[43m \u001b[49m\u001b[43mvar_names\u001b[49m\u001b[43m=\u001b[49m\u001b[43m[\u001b[49m\u001b[33;43m'\u001b[39;49m\u001b[33;43malpha\u001b[39;49m\u001b[33;43m'\u001b[39;49m\u001b[43m,\u001b[49m\u001b[33;43m'\u001b[39;49m\u001b[33;43mU\u001b[39;49m\u001b[33;43m'\u001b[39;49m\u001b[43m,\u001b[49m\u001b[33;43m'\u001b[39;49m\u001b[33;43mV\u001b[39;49m\u001b[33;43m'\u001b[39;49m\u001b[43m]\u001b[49m\u001b[43m)\u001b[49m\n",
      "\u001b[36mFile \u001b[39m\u001b[32m~/miniconda3/envs/bayespmf/lib/python3.11/site-packages/arviz/stats/stats.py:1527\u001b[39m, in \u001b[36msummary\u001b[39m\u001b[34m(data, var_names, filter_vars, group, fmt, kind, round_to, circ_var_names, stat_focus, stat_funcs, extend, hdi_prob, skipna, labeller, coords, index_origin, order)\u001b[39m\n\u001b[32m   1523\u001b[39m summary_df = pd.DataFrame(\n\u001b[32m   1524\u001b[39m     (np.full((cast(\u001b[38;5;28mint\u001b[39m, n_vars), n_metrics), np.nan)), columns=metric_names\n\u001b[32m   1525\u001b[39m )\n\u001b[32m   1526\u001b[39m indices = []\n\u001b[32m-> \u001b[39m\u001b[32m1527\u001b[39m \u001b[43m\u001b[49m\u001b[38;5;28;43;01mfor\u001b[39;49;00m\u001b[43m \u001b[49m\u001b[43mi\u001b[49m\u001b[43m,\u001b[49m\u001b[43m \u001b[49m\u001b[43m(\u001b[49m\u001b[43mvar_name\u001b[49m\u001b[43m,\u001b[49m\u001b[43m \u001b[49m\u001b[43msel\u001b[49m\u001b[43m,\u001b[49m\u001b[43m \u001b[49m\u001b[43misel\u001b[49m\u001b[43m,\u001b[49m\u001b[43m \u001b[49m\u001b[43mvalues\u001b[49m\u001b[43m)\u001b[49m\u001b[43m \u001b[49m\u001b[38;5;129;43;01min\u001b[39;49;00m\u001b[43m \u001b[49m\u001b[38;5;28;43menumerate\u001b[39;49m\u001b[43m(\u001b[49m\n\u001b[32m   1528\u001b[39m \u001b[43m    \u001b[49m\u001b[43mxarray_var_iter\u001b[49m\u001b[43m(\u001b[49m\u001b[43mjoined\u001b[49m\u001b[43m,\u001b[49m\u001b[43m \u001b[49m\u001b[43mskip_dims\u001b[49m\u001b[43m=\u001b[49m\u001b[43m{\u001b[49m\u001b[33;43m\"\u001b[39;49m\u001b[33;43mmetric\u001b[39;49m\u001b[33;43m\"\u001b[39;49m\u001b[43m}\u001b[49m\u001b[43m)\u001b[49m\n\u001b[32m   1529\u001b[39m \u001b[43m\u001b[49m\u001b[43m)\u001b[49m\u001b[43m:\u001b[49m\n\u001b[32m   1530\u001b[39m \u001b[43m    \u001b[49m\u001b[43msummary_df\u001b[49m\u001b[43m.\u001b[49m\u001b[43miloc\u001b[49m\u001b[43m[\u001b[49m\u001b[43mi\u001b[49m\u001b[43m]\u001b[49m\u001b[43m \u001b[49m\u001b[43m=\u001b[49m\u001b[43m \u001b[49m\u001b[43mvalues\u001b[49m\n\u001b[32m   1531\u001b[39m \u001b[43m    \u001b[49m\u001b[43mindices\u001b[49m\u001b[43m.\u001b[49m\u001b[43mappend\u001b[49m\u001b[43m(\u001b[49m\u001b[43mlabeller\u001b[49m\u001b[43m.\u001b[49m\u001b[43mmake_label_flat\u001b[49m\u001b[43m(\u001b[49m\u001b[43mvar_name\u001b[49m\u001b[43m,\u001b[49m\u001b[43m \u001b[49m\u001b[43msel\u001b[49m\u001b[43m,\u001b[49m\u001b[43m \u001b[49m\u001b[43misel\u001b[49m\u001b[43m)\u001b[49m\u001b[43m)\u001b[49m\n",
      "\u001b[36mFile \u001b[39m\u001b[32m~/miniconda3/envs/bayespmf/lib/python3.11/site-packages/arviz/sel_utils.py:174\u001b[39m, in \u001b[36mxarray_var_iter\u001b[39m\u001b[34m(data, var_names, combined, skip_dims, reverse_selections, dim_order)\u001b[39m\n\u001b[32m    165\u001b[39m     dim_order = [dim_order]\n\u001b[32m    167\u001b[39m \u001b[38;5;28;01mfor\u001b[39;00m var_name, selection, iselection \u001b[38;5;129;01min\u001b[39;00m xarray_sel_iter(\n\u001b[32m    168\u001b[39m     data,\n\u001b[32m    169\u001b[39m     var_names=var_names,\n\u001b[32m   (...)\u001b[39m\u001b[32m    172\u001b[39m     reverse_selections=reverse_selections,\n\u001b[32m    173\u001b[39m ):\n\u001b[32m--> \u001b[39m\u001b[32m174\u001b[39m     selected_data = \u001b[43mdata_to_sel\u001b[49m\u001b[43m[\u001b[49m\u001b[43mvar_name\u001b[49m\u001b[43m]\u001b[49m\u001b[43m.\u001b[49m\u001b[43msel\u001b[49m\u001b[43m(\u001b[49m\u001b[43m*\u001b[49m\u001b[43m*\u001b[49m\u001b[43mselection\u001b[49m\u001b[43m)\u001b[49m\n\u001b[32m    175\u001b[39m     \u001b[38;5;28;01mif\u001b[39;00m dim_order \u001b[38;5;129;01mis\u001b[39;00m \u001b[38;5;129;01mnot\u001b[39;00m \u001b[38;5;28;01mNone\u001b[39;00m:\n\u001b[32m    176\u001b[39m         dim_order_selected = [dim \u001b[38;5;28;01mfor\u001b[39;00m dim \u001b[38;5;129;01min\u001b[39;00m dim_order \u001b[38;5;28;01mif\u001b[39;00m dim \u001b[38;5;129;01min\u001b[39;00m selected_data.dims]\n",
      "\u001b[36mFile \u001b[39m\u001b[32m~/miniconda3/envs/bayespmf/lib/python3.11/site-packages/xarray/core/dataarray.py:1682\u001b[39m, in \u001b[36mDataArray.sel\u001b[39m\u001b[34m(self, indexers, method, tolerance, drop, **indexers_kwargs)\u001b[39m\n\u001b[32m   1566\u001b[39m \u001b[38;5;28;01mdef\u001b[39;00m\u001b[38;5;250m \u001b[39m\u001b[34msel\u001b[39m(\n\u001b[32m   1567\u001b[39m     \u001b[38;5;28mself\u001b[39m,\n\u001b[32m   1568\u001b[39m     indexers: Mapping[Any, Any] | \u001b[38;5;28;01mNone\u001b[39;00m = \u001b[38;5;28;01mNone\u001b[39;00m,\n\u001b[32m   (...)\u001b[39m\u001b[32m   1572\u001b[39m     **indexers_kwargs: Any,\n\u001b[32m   1573\u001b[39m ) -> Self:\n\u001b[32m   1574\u001b[39m \u001b[38;5;250m    \u001b[39m\u001b[33;03m\"\"\"Return a new DataArray whose data is given by selecting index\u001b[39;00m\n\u001b[32m   1575\u001b[39m \u001b[33;03m    labels along the specified dimension(s).\u001b[39;00m\n\u001b[32m   1576\u001b[39m \n\u001b[32m   (...)\u001b[39m\u001b[32m   1680\u001b[39m \u001b[33;03m    Dimensions without coordinates: points\u001b[39;00m\n\u001b[32m   1681\u001b[39m \u001b[33;03m    \"\"\"\u001b[39;00m\n\u001b[32m-> \u001b[39m\u001b[32m1682\u001b[39m     ds = \u001b[38;5;28;43mself\u001b[39;49m\u001b[43m.\u001b[49m\u001b[43m_to_temp_dataset\u001b[49m\u001b[43m(\u001b[49m\u001b[43m)\u001b[49m\u001b[43m.\u001b[49m\u001b[43msel\u001b[49m\u001b[43m(\u001b[49m\n\u001b[32m   1683\u001b[39m \u001b[43m        \u001b[49m\u001b[43mindexers\u001b[49m\u001b[43m=\u001b[49m\u001b[43mindexers\u001b[49m\u001b[43m,\u001b[49m\n\u001b[32m   1684\u001b[39m \u001b[43m        \u001b[49m\u001b[43mdrop\u001b[49m\u001b[43m=\u001b[49m\u001b[43mdrop\u001b[49m\u001b[43m,\u001b[49m\n\u001b[32m   1685\u001b[39m \u001b[43m        \u001b[49m\u001b[43mmethod\u001b[49m\u001b[43m=\u001b[49m\u001b[43mmethod\u001b[49m\u001b[43m,\u001b[49m\n\u001b[32m   1686\u001b[39m \u001b[43m        \u001b[49m\u001b[43mtolerance\u001b[49m\u001b[43m=\u001b[49m\u001b[43mtolerance\u001b[49m\u001b[43m,\u001b[49m\n\u001b[32m   1687\u001b[39m \u001b[43m        \u001b[49m\u001b[43m*\u001b[49m\u001b[43m*\u001b[49m\u001b[43mindexers_kwargs\u001b[49m\u001b[43m,\u001b[49m\n\u001b[32m   1688\u001b[39m \u001b[43m    \u001b[49m\u001b[43m)\u001b[49m\n\u001b[32m   1689\u001b[39m     \u001b[38;5;28;01mreturn\u001b[39;00m \u001b[38;5;28mself\u001b[39m._from_temp_dataset(ds)\n",
      "\u001b[36mFile \u001b[39m\u001b[32m~/miniconda3/envs/bayespmf/lib/python3.11/site-packages/xarray/core/dataset.py:2890\u001b[39m, in \u001b[36mDataset.sel\u001b[39m\u001b[34m(self, indexers, method, tolerance, drop, **indexers_kwargs)\u001b[39m\n\u001b[32m   2822\u001b[39m \u001b[38;5;250m\u001b[39m\u001b[33;03m\"\"\"Returns a new dataset with each array indexed by tick labels\u001b[39;00m\n\u001b[32m   2823\u001b[39m \u001b[33;03malong the specified dimension(s).\u001b[39;00m\n\u001b[32m   2824\u001b[39m \n\u001b[32m   (...)\u001b[39m\u001b[32m   2887\u001b[39m \n\u001b[32m   2888\u001b[39m \u001b[33;03m\"\"\"\u001b[39;00m\n\u001b[32m   2889\u001b[39m indexers = either_dict_or_kwargs(indexers, indexers_kwargs, \u001b[33m\"\u001b[39m\u001b[33msel\u001b[39m\u001b[33m\"\u001b[39m)\n\u001b[32m-> \u001b[39m\u001b[32m2890\u001b[39m query_results = \u001b[43mmap_index_queries\u001b[49m\u001b[43m(\u001b[49m\n\u001b[32m   2891\u001b[39m \u001b[43m    \u001b[49m\u001b[38;5;28;43mself\u001b[39;49m\u001b[43m,\u001b[49m\u001b[43m \u001b[49m\u001b[43mindexers\u001b[49m\u001b[43m=\u001b[49m\u001b[43mindexers\u001b[49m\u001b[43m,\u001b[49m\u001b[43m \u001b[49m\u001b[43mmethod\u001b[49m\u001b[43m=\u001b[49m\u001b[43mmethod\u001b[49m\u001b[43m,\u001b[49m\u001b[43m \u001b[49m\u001b[43mtolerance\u001b[49m\u001b[43m=\u001b[49m\u001b[43mtolerance\u001b[49m\n\u001b[32m   2892\u001b[39m \u001b[43m\u001b[49m\u001b[43m)\u001b[49m\n\u001b[32m   2894\u001b[39m \u001b[38;5;28;01mif\u001b[39;00m drop:\n\u001b[32m   2895\u001b[39m     no_scalar_variables = {}\n",
      "\u001b[36mFile \u001b[39m\u001b[32m~/miniconda3/envs/bayespmf/lib/python3.11/site-packages/xarray/core/indexing.py:197\u001b[39m, in \u001b[36mmap_index_queries\u001b[39m\u001b[34m(obj, indexers, method, tolerance, **indexers_kwargs)\u001b[39m\n\u001b[32m    195\u001b[39m         results.append(IndexSelResult(labels))\n\u001b[32m    196\u001b[39m     \u001b[38;5;28;01melse\u001b[39;00m:\n\u001b[32m--> \u001b[39m\u001b[32m197\u001b[39m         results.append(\u001b[43mindex\u001b[49m\u001b[43m.\u001b[49m\u001b[43msel\u001b[49m\u001b[43m(\u001b[49m\u001b[43mlabels\u001b[49m\u001b[43m,\u001b[49m\u001b[43m \u001b[49m\u001b[43m*\u001b[49m\u001b[43m*\u001b[49m\u001b[43moptions\u001b[49m\u001b[43m)\u001b[49m)\n\u001b[32m    199\u001b[39m merged = merge_sel_results(results)\n\u001b[32m    201\u001b[39m \u001b[38;5;66;03m# drop dimension coordinates found in dimension indexers\u001b[39;00m\n\u001b[32m    202\u001b[39m \u001b[38;5;66;03m# (also drop multi-index if any)\u001b[39;00m\n\u001b[32m    203\u001b[39m \u001b[38;5;66;03m# (.sel() already ensures alignment)\u001b[39;00m\n",
      "\u001b[36mFile \u001b[39m\u001b[32m~/miniconda3/envs/bayespmf/lib/python3.11/site-packages/xarray/core/indexes.py:767\u001b[39m, in \u001b[36mPandasIndex.sel\u001b[39m\u001b[34m(self, labels, method, tolerance)\u001b[39m\n\u001b[32m    764\u001b[39m     \u001b[38;5;28;01mraise\u001b[39;00m \u001b[38;5;167;01mTypeError\u001b[39;00m(\u001b[33m\"\u001b[39m\u001b[33m``method`` must be a string\u001b[39m\u001b[33m\"\u001b[39m)\n\u001b[32m    766\u001b[39m \u001b[38;5;28;01massert\u001b[39;00m \u001b[38;5;28mlen\u001b[39m(labels) == \u001b[32m1\u001b[39m\n\u001b[32m--> \u001b[39m\u001b[32m767\u001b[39m coord_name, label = \u001b[38;5;28mnext\u001b[39m(\u001b[38;5;28miter\u001b[39m(labels.items()))\n\u001b[32m    769\u001b[39m \u001b[38;5;28;01mif\u001b[39;00m \u001b[38;5;28misinstance\u001b[39m(label, \u001b[38;5;28mslice\u001b[39m):\n\u001b[32m    770\u001b[39m     indexer = _query_slice(\u001b[38;5;28mself\u001b[39m.index, label, coord_name, method, tolerance)\n",
      "\u001b[31mKeyboardInterrupt\u001b[39m: "
     ]
    },
    {
     "data": {
      "image/png": "[encoded data removed]",
      "text/plain": [
       "<Figure size 1200x200 with 2 Axes>"
      ]
     },
     "metadata": {},
     "output_type": "display_data"
    }
   ],
   "source": [
    "az.plot_trace(trace_advi, var_names=['alpha'])\n",
    "az.summary(trace_advi, var_names=['alpha','U','V'])"
   ]
  },
  {
   "cell_type": "code",
   "execution_count": 44,
   "id": "755d2020-9273-4f89-b78e-eb34d11b2fbe",
   "metadata": {},
   "outputs": [
    {
     "name": "stdout",
     "output_type": "stream",
     "text": [
      "Test MSE: 14.5297\n",
      "Test RMSE: 3.8118\n",
      "Test MAE: 3.5893\n"
     ]
    }
   ],
   "source": [
    "# Use posterior means for prediction\n",
    "posterior_U = trace_advi.posterior['U'].mean(dim=(\"chain\", \"draw\")).values\n",
    "posterior_V = trace_advi.posterior['V'].mean(dim=(\"chain\", \"draw\")).values\n",
    "\n",
    "# Predict test ratings\n",
    "mu_hat = np.sum(posterior_U[test_u_idx] * posterior_V[test_a_idx], axis=1)\n",
    "mu_hat_log = np.log1p(mu_hat)\n",
    "\n",
    "\n",
    "# Compute error metrics\n",
    "rmse = root_mean_squared_error(test_log_count, mu_hat_log)\n",
    "mse = mean_squared_error(test_log_count, mu_hat_log)\n",
    "mae = mean_absolute_error(test_log_count, mu_hat_log)\n",
    "\n",
    "# Print error metrics\n",
    "print(f'Test MSE: {mse:.4f}')\n",
    "print(f\"Test RMSE: {rmse:.4f}\")\n",
    "print(f\"Test MAE: {mae:.4f}\")"
   ]
  },
  {
   "cell_type": "code",
   "execution_count": 35,
   "id": "cc7757e2-a6ed-416a-81ac-4935b2d2835b",
   "metadata": {},
   "outputs": [
    {
     "data": {
      "text/plain": [
       "array([4.97399315, 6.56874441, 5.33841866, ..., 6.68581669, 7.67640077,\n",
       "       8.38173328])"
      ]
     },
     "execution_count": 35,
     "metadata": {},
     "output_type": "execute_result"
    }
   ],
   "source": [
    "mu_hat"
   ]
  },
  {
   "cell_type": "code",
   "execution_count": null,
   "id": "2088a771-19c0-4880-a3fd-9c50d7ef9679",
   "metadata": {},
   "outputs": [],
   "source": [
    "!git co"
   ]
  },
  {
   "cell_type": "code",
   "execution_count": 46,
   "id": "b0794d19-8928-4e0e-b866-14e4fe0d3cfb",
   "metadata": {},
   "outputs": [
    {
     "name": "stdout",
     "output_type": "stream",
     "text": [
      "Author identity unknown\n",
      "\n",
      "*** Please tell me who you are.\n",
      "\n",
      "Run\n",
      "\n",
      "  git config --global user.email \"you@example.com\"\n",
      "  git config --global user.name \"Your Name\"\n",
      "\n",
      "to set your account's default identity.\n",
      "Omit --global to set the identity only in this repository.\n",
      "\n",
      "fatal: empty ident name (for <prnash_spr25@instance-20250524-183024.us-central1-c.c.abiding-aspect-460715-g4.internal>) not allowed\n"
     ]
    }
   ],
   "source": [
    "!git commit -m \"adding NB ADVI model\""
   ]
  }
 ],
 "metadata": {
  "kernelspec": {
   "display_name": "Python 3 (ipykernel)",
   "language": "python",
   "name": "python3"
  },
  "language_info": {
   "codemirror_mode": {
    "name": "ipython",
    "version": 3
   },
   "file_extension": ".py",
   "mimetype": "text/x-python",
   "name": "python",
   "nbconvert_exporter": "python",
   "pygments_lexer": "ipython3",
   "version": "3.11.11"
  }
 },
 "nbformat": 4,
 "nbformat_minor": 5
}
