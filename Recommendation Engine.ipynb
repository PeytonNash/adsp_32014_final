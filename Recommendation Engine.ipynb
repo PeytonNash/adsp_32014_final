{
 "cells": [
  {
   "cell_type": "markdown",
   "id": "716a2ce3",
   "metadata": {},
   "source": [
    "## Import Libraries"
   ]
  },
  {
   "cell_type": "code",
   "execution_count": 1,
   "id": "71c3a620",
   "metadata": {},
   "outputs": [],
   "source": [
    "import pandas as pd\n",
    "import matplotlib.pyplot as plt\n",
    "import seaborn as sns\n",
    "import numpy as np\n",
    "from sklearn.model_selection import train_test_split\n",
    "import pymc as pm\n",
    "import arviz as az\n",
    "from sklearn.metrics import root_mean_squared_error, mean_absolute_error, r2_score\n",
    "import warnings\n",
    "warnings.filterwarnings('ignore')"
   ]
  },
  {
   "cell_type": "markdown",
   "id": "80789fb9",
   "metadata": {},
   "source": [
    "## Load Data"
   ]
  },
  {
   "cell_type": "code",
   "execution_count": 2,
   "id": "65bda50b",
   "metadata": {},
   "outputs": [],
   "source": [
    "# Folder name\n",
    "folder = 'Data'\n",
    "\n",
    "# Read each file\n",
    "artists = pd.read_csv(f'{folder}/artists.dat', sep='\\t')\n",
    "tags = pd.read_csv(f'{folder}/tags.dat', sep='\\t', encoding='latin-1')\n",
    "user_artists = pd.read_csv(f'{folder}/user_artists.dat', sep='\\t')\n",
    "user_friends = pd.read_csv(f'{folder}/user_friends.dat', sep='\\t')\n",
    "user_taggedartists = pd.read_csv(f'{folder}/user_taggedartists.dat', sep='\\t')\n",
    "user_taggedartists_timestamps = pd.read_csv(f'{folder}/user_taggedartists-timestamps.dat', sep='\\t')\n"
   ]
  },
  {
   "cell_type": "code",
   "execution_count": 3,
   "id": "3e67b6c2",
   "metadata": {},
   "outputs": [
    {
     "data": {
      "text/html": [
       "<div>\n",
       "<style scoped>\n",
       "    .dataframe tbody tr th:only-of-type {\n",
       "        vertical-align: middle;\n",
       "    }\n",
       "\n",
       "    .dataframe tbody tr th {\n",
       "        vertical-align: top;\n",
       "    }\n",
       "\n",
       "    .dataframe thead th {\n",
       "        text-align: right;\n",
       "    }\n",
       "</style>\n",
       "<table border=\"1\" class=\"dataframe\">\n",
       "  <thead>\n",
       "    <tr style=\"text-align: right;\">\n",
       "      <th></th>\n",
       "      <th>id</th>\n",
       "      <th>name</th>\n",
       "      <th>url</th>\n",
       "      <th>pictureURL</th>\n",
       "    </tr>\n",
       "  </thead>\n",
       "  <tbody>\n",
       "    <tr>\n",
       "      <th>0</th>\n",
       "      <td>1</td>\n",
       "      <td>MALICE MIZER</td>\n",
       "      <td>http://www.last.fm/music/MALICE+MIZER</td>\n",
       "      <td>http://userserve-ak.last.fm/serve/252/10808.jpg</td>\n",
       "    </tr>\n",
       "    <tr>\n",
       "      <th>1</th>\n",
       "      <td>2</td>\n",
       "      <td>Diary of Dreams</td>\n",
       "      <td>http://www.last.fm/music/Diary+of+Dreams</td>\n",
       "      <td>http://userserve-ak.last.fm/serve/252/3052066.jpg</td>\n",
       "    </tr>\n",
       "    <tr>\n",
       "      <th>2</th>\n",
       "      <td>3</td>\n",
       "      <td>Carpathian Forest</td>\n",
       "      <td>http://www.last.fm/music/Carpathian+Forest</td>\n",
       "      <td>http://userserve-ak.last.fm/serve/252/40222717...</td>\n",
       "    </tr>\n",
       "    <tr>\n",
       "      <th>3</th>\n",
       "      <td>4</td>\n",
       "      <td>Moi dix Mois</td>\n",
       "      <td>http://www.last.fm/music/Moi+dix+Mois</td>\n",
       "      <td>http://userserve-ak.last.fm/serve/252/54697835...</td>\n",
       "    </tr>\n",
       "    <tr>\n",
       "      <th>4</th>\n",
       "      <td>5</td>\n",
       "      <td>Bella Morte</td>\n",
       "      <td>http://www.last.fm/music/Bella+Morte</td>\n",
       "      <td>http://userserve-ak.last.fm/serve/252/14789013...</td>\n",
       "    </tr>\n",
       "  </tbody>\n",
       "</table>\n",
       "</div>"
      ],
      "text/plain": [
       "   id               name                                         url  \\\n",
       "0   1       MALICE MIZER       http://www.last.fm/music/MALICE+MIZER   \n",
       "1   2    Diary of Dreams    http://www.last.fm/music/Diary+of+Dreams   \n",
       "2   3  Carpathian Forest  http://www.last.fm/music/Carpathian+Forest   \n",
       "3   4       Moi dix Mois       http://www.last.fm/music/Moi+dix+Mois   \n",
       "4   5        Bella Morte        http://www.last.fm/music/Bella+Morte   \n",
       "\n",
       "                                          pictureURL  \n",
       "0    http://userserve-ak.last.fm/serve/252/10808.jpg  \n",
       "1  http://userserve-ak.last.fm/serve/252/3052066.jpg  \n",
       "2  http://userserve-ak.last.fm/serve/252/40222717...  \n",
       "3  http://userserve-ak.last.fm/serve/252/54697835...  \n",
       "4  http://userserve-ak.last.fm/serve/252/14789013...  "
      ]
     },
     "execution_count": 3,
     "metadata": {},
     "output_type": "execute_result"
    }
   ],
   "source": [
    "artists.head()"
   ]
  },
  {
   "cell_type": "code",
   "execution_count": 4,
   "id": "5e1e2c43",
   "metadata": {},
   "outputs": [
    {
     "data": {
      "text/html": [
       "<div>\n",
       "<style scoped>\n",
       "    .dataframe tbody tr th:only-of-type {\n",
       "        vertical-align: middle;\n",
       "    }\n",
       "\n",
       "    .dataframe tbody tr th {\n",
       "        vertical-align: top;\n",
       "    }\n",
       "\n",
       "    .dataframe thead th {\n",
       "        text-align: right;\n",
       "    }\n",
       "</style>\n",
       "<table border=\"1\" class=\"dataframe\">\n",
       "  <thead>\n",
       "    <tr style=\"text-align: right;\">\n",
       "      <th></th>\n",
       "      <th>tagID</th>\n",
       "      <th>tagValue</th>\n",
       "    </tr>\n",
       "  </thead>\n",
       "  <tbody>\n",
       "    <tr>\n",
       "      <th>0</th>\n",
       "      <td>1</td>\n",
       "      <td>metal</td>\n",
       "    </tr>\n",
       "    <tr>\n",
       "      <th>1</th>\n",
       "      <td>2</td>\n",
       "      <td>alternative metal</td>\n",
       "    </tr>\n",
       "    <tr>\n",
       "      <th>2</th>\n",
       "      <td>3</td>\n",
       "      <td>goth rock</td>\n",
       "    </tr>\n",
       "    <tr>\n",
       "      <th>3</th>\n",
       "      <td>4</td>\n",
       "      <td>black metal</td>\n",
       "    </tr>\n",
       "    <tr>\n",
       "      <th>4</th>\n",
       "      <td>5</td>\n",
       "      <td>death metal</td>\n",
       "    </tr>\n",
       "  </tbody>\n",
       "</table>\n",
       "</div>"
      ],
      "text/plain": [
       "   tagID           tagValue\n",
       "0      1              metal\n",
       "1      2  alternative metal\n",
       "2      3          goth rock\n",
       "3      4        black metal\n",
       "4      5        death metal"
      ]
     },
     "execution_count": 4,
     "metadata": {},
     "output_type": "execute_result"
    }
   ],
   "source": [
    "tags.head()"
   ]
  },
  {
   "cell_type": "code",
   "execution_count": 5,
   "id": "2bf6cebc",
   "metadata": {},
   "outputs": [
    {
     "data": {
      "text/html": [
       "<div>\n",
       "<style scoped>\n",
       "    .dataframe tbody tr th:only-of-type {\n",
       "        vertical-align: middle;\n",
       "    }\n",
       "\n",
       "    .dataframe tbody tr th {\n",
       "        vertical-align: top;\n",
       "    }\n",
       "\n",
       "    .dataframe thead th {\n",
       "        text-align: right;\n",
       "    }\n",
       "</style>\n",
       "<table border=\"1\" class=\"dataframe\">\n",
       "  <thead>\n",
       "    <tr style=\"text-align: right;\">\n",
       "      <th></th>\n",
       "      <th>userID</th>\n",
       "      <th>artistID</th>\n",
       "      <th>weight</th>\n",
       "    </tr>\n",
       "  </thead>\n",
       "  <tbody>\n",
       "    <tr>\n",
       "      <th>0</th>\n",
       "      <td>2</td>\n",
       "      <td>51</td>\n",
       "      <td>13883</td>\n",
       "    </tr>\n",
       "    <tr>\n",
       "      <th>1</th>\n",
       "      <td>2</td>\n",
       "      <td>52</td>\n",
       "      <td>11690</td>\n",
       "    </tr>\n",
       "    <tr>\n",
       "      <th>2</th>\n",
       "      <td>2</td>\n",
       "      <td>53</td>\n",
       "      <td>11351</td>\n",
       "    </tr>\n",
       "    <tr>\n",
       "      <th>3</th>\n",
       "      <td>2</td>\n",
       "      <td>54</td>\n",
       "      <td>10300</td>\n",
       "    </tr>\n",
       "    <tr>\n",
       "      <th>4</th>\n",
       "      <td>2</td>\n",
       "      <td>55</td>\n",
       "      <td>8983</td>\n",
       "    </tr>\n",
       "  </tbody>\n",
       "</table>\n",
       "</div>"
      ],
      "text/plain": [
       "   userID  artistID  weight\n",
       "0       2        51   13883\n",
       "1       2        52   11690\n",
       "2       2        53   11351\n",
       "3       2        54   10300\n",
       "4       2        55    8983"
      ]
     },
     "execution_count": 5,
     "metadata": {},
     "output_type": "execute_result"
    }
   ],
   "source": [
    "user_artists.head()"
   ]
  },
  {
   "cell_type": "code",
   "execution_count": 6,
   "id": "52da86d7",
   "metadata": {},
   "outputs": [
    {
     "data": {
      "text/html": [
       "<div>\n",
       "<style scoped>\n",
       "    .dataframe tbody tr th:only-of-type {\n",
       "        vertical-align: middle;\n",
       "    }\n",
       "\n",
       "    .dataframe tbody tr th {\n",
       "        vertical-align: top;\n",
       "    }\n",
       "\n",
       "    .dataframe thead th {\n",
       "        text-align: right;\n",
       "    }\n",
       "</style>\n",
       "<table border=\"1\" class=\"dataframe\">\n",
       "  <thead>\n",
       "    <tr style=\"text-align: right;\">\n",
       "      <th></th>\n",
       "      <th>userID</th>\n",
       "      <th>friendID</th>\n",
       "    </tr>\n",
       "  </thead>\n",
       "  <tbody>\n",
       "    <tr>\n",
       "      <th>0</th>\n",
       "      <td>2</td>\n",
       "      <td>275</td>\n",
       "    </tr>\n",
       "    <tr>\n",
       "      <th>1</th>\n",
       "      <td>2</td>\n",
       "      <td>428</td>\n",
       "    </tr>\n",
       "    <tr>\n",
       "      <th>2</th>\n",
       "      <td>2</td>\n",
       "      <td>515</td>\n",
       "    </tr>\n",
       "    <tr>\n",
       "      <th>3</th>\n",
       "      <td>2</td>\n",
       "      <td>761</td>\n",
       "    </tr>\n",
       "    <tr>\n",
       "      <th>4</th>\n",
       "      <td>2</td>\n",
       "      <td>831</td>\n",
       "    </tr>\n",
       "  </tbody>\n",
       "</table>\n",
       "</div>"
      ],
      "text/plain": [
       "   userID  friendID\n",
       "0       2       275\n",
       "1       2       428\n",
       "2       2       515\n",
       "3       2       761\n",
       "4       2       831"
      ]
     },
     "execution_count": 6,
     "metadata": {},
     "output_type": "execute_result"
    }
   ],
   "source": [
    "user_friends.head()"
   ]
  },
  {
   "cell_type": "code",
   "execution_count": 7,
   "id": "3c5962e0",
   "metadata": {},
   "outputs": [
    {
     "data": {
      "text/html": [
       "<div>\n",
       "<style scoped>\n",
       "    .dataframe tbody tr th:only-of-type {\n",
       "        vertical-align: middle;\n",
       "    }\n",
       "\n",
       "    .dataframe tbody tr th {\n",
       "        vertical-align: top;\n",
       "    }\n",
       "\n",
       "    .dataframe thead th {\n",
       "        text-align: right;\n",
       "    }\n",
       "</style>\n",
       "<table border=\"1\" class=\"dataframe\">\n",
       "  <thead>\n",
       "    <tr style=\"text-align: right;\">\n",
       "      <th></th>\n",
       "      <th>userID</th>\n",
       "      <th>artistID</th>\n",
       "      <th>tagID</th>\n",
       "      <th>day</th>\n",
       "      <th>month</th>\n",
       "      <th>year</th>\n",
       "    </tr>\n",
       "  </thead>\n",
       "  <tbody>\n",
       "    <tr>\n",
       "      <th>0</th>\n",
       "      <td>2</td>\n",
       "      <td>52</td>\n",
       "      <td>13</td>\n",
       "      <td>1</td>\n",
       "      <td>4</td>\n",
       "      <td>2009</td>\n",
       "    </tr>\n",
       "    <tr>\n",
       "      <th>1</th>\n",
       "      <td>2</td>\n",
       "      <td>52</td>\n",
       "      <td>15</td>\n",
       "      <td>1</td>\n",
       "      <td>4</td>\n",
       "      <td>2009</td>\n",
       "    </tr>\n",
       "    <tr>\n",
       "      <th>2</th>\n",
       "      <td>2</td>\n",
       "      <td>52</td>\n",
       "      <td>18</td>\n",
       "      <td>1</td>\n",
       "      <td>4</td>\n",
       "      <td>2009</td>\n",
       "    </tr>\n",
       "    <tr>\n",
       "      <th>3</th>\n",
       "      <td>2</td>\n",
       "      <td>52</td>\n",
       "      <td>21</td>\n",
       "      <td>1</td>\n",
       "      <td>4</td>\n",
       "      <td>2009</td>\n",
       "    </tr>\n",
       "    <tr>\n",
       "      <th>4</th>\n",
       "      <td>2</td>\n",
       "      <td>52</td>\n",
       "      <td>41</td>\n",
       "      <td>1</td>\n",
       "      <td>4</td>\n",
       "      <td>2009</td>\n",
       "    </tr>\n",
       "  </tbody>\n",
       "</table>\n",
       "</div>"
      ],
      "text/plain": [
       "   userID  artistID  tagID  day  month  year\n",
       "0       2        52     13    1      4  2009\n",
       "1       2        52     15    1      4  2009\n",
       "2       2        52     18    1      4  2009\n",
       "3       2        52     21    1      4  2009\n",
       "4       2        52     41    1      4  2009"
      ]
     },
     "execution_count": 7,
     "metadata": {},
     "output_type": "execute_result"
    }
   ],
   "source": [
    "user_taggedartists.head()"
   ]
  },
  {
   "cell_type": "code",
   "execution_count": 8,
   "id": "9bcbfd74",
   "metadata": {},
   "outputs": [
    {
     "data": {
      "text/html": [
       "<div>\n",
       "<style scoped>\n",
       "    .dataframe tbody tr th:only-of-type {\n",
       "        vertical-align: middle;\n",
       "    }\n",
       "\n",
       "    .dataframe tbody tr th {\n",
       "        vertical-align: top;\n",
       "    }\n",
       "\n",
       "    .dataframe thead th {\n",
       "        text-align: right;\n",
       "    }\n",
       "</style>\n",
       "<table border=\"1\" class=\"dataframe\">\n",
       "  <thead>\n",
       "    <tr style=\"text-align: right;\">\n",
       "      <th></th>\n",
       "      <th>userID</th>\n",
       "      <th>artistID</th>\n",
       "      <th>tagID</th>\n",
       "      <th>timestamp</th>\n",
       "    </tr>\n",
       "  </thead>\n",
       "  <tbody>\n",
       "    <tr>\n",
       "      <th>0</th>\n",
       "      <td>2</td>\n",
       "      <td>52</td>\n",
       "      <td>13</td>\n",
       "      <td>1238536800000</td>\n",
       "    </tr>\n",
       "    <tr>\n",
       "      <th>1</th>\n",
       "      <td>2</td>\n",
       "      <td>52</td>\n",
       "      <td>15</td>\n",
       "      <td>1238536800000</td>\n",
       "    </tr>\n",
       "    <tr>\n",
       "      <th>2</th>\n",
       "      <td>2</td>\n",
       "      <td>52</td>\n",
       "      <td>18</td>\n",
       "      <td>1238536800000</td>\n",
       "    </tr>\n",
       "    <tr>\n",
       "      <th>3</th>\n",
       "      <td>2</td>\n",
       "      <td>52</td>\n",
       "      <td>21</td>\n",
       "      <td>1238536800000</td>\n",
       "    </tr>\n",
       "    <tr>\n",
       "      <th>4</th>\n",
       "      <td>2</td>\n",
       "      <td>52</td>\n",
       "      <td>41</td>\n",
       "      <td>1238536800000</td>\n",
       "    </tr>\n",
       "  </tbody>\n",
       "</table>\n",
       "</div>"
      ],
      "text/plain": [
       "   userID  artistID  tagID      timestamp\n",
       "0       2        52     13  1238536800000\n",
       "1       2        52     15  1238536800000\n",
       "2       2        52     18  1238536800000\n",
       "3       2        52     21  1238536800000\n",
       "4       2        52     41  1238536800000"
      ]
     },
     "execution_count": 8,
     "metadata": {},
     "output_type": "execute_result"
    }
   ],
   "source": [
    "user_taggedartists_timestamps.head()"
   ]
  },
  {
   "cell_type": "markdown",
   "id": "e27af3dc",
   "metadata": {},
   "source": [
    "## EDA"
   ]
  },
  {
   "cell_type": "code",
   "execution_count": 9,
   "id": "2a299d4f",
   "metadata": {},
   "outputs": [
    {
     "data": {
      "text/html": [
       "<div>\n",
       "<style scoped>\n",
       "    .dataframe tbody tr th:only-of-type {\n",
       "        vertical-align: middle;\n",
       "    }\n",
       "\n",
       "    .dataframe tbody tr th {\n",
       "        vertical-align: top;\n",
       "    }\n",
       "\n",
       "    .dataframe thead th {\n",
       "        text-align: right;\n",
       "    }\n",
       "</style>\n",
       "<table border=\"1\" class=\"dataframe\">\n",
       "  <thead>\n",
       "    <tr style=\"text-align: right;\">\n",
       "      <th></th>\n",
       "      <th>userID</th>\n",
       "      <th>artistID</th>\n",
       "      <th>weight</th>\n",
       "      <th>id</th>\n",
       "      <th>name</th>\n",
       "      <th>url</th>\n",
       "      <th>pictureURL</th>\n",
       "    </tr>\n",
       "  </thead>\n",
       "  <tbody>\n",
       "    <tr>\n",
       "      <th>0</th>\n",
       "      <td>2</td>\n",
       "      <td>51</td>\n",
       "      <td>13883</td>\n",
       "      <td>51</td>\n",
       "      <td>Duran Duran</td>\n",
       "      <td>http://www.last.fm/music/Duran+Duran</td>\n",
       "      <td>http://userserve-ak.last.fm/serve/252/155668.jpg</td>\n",
       "    </tr>\n",
       "    <tr>\n",
       "      <th>1</th>\n",
       "      <td>2</td>\n",
       "      <td>52</td>\n",
       "      <td>11690</td>\n",
       "      <td>52</td>\n",
       "      <td>Morcheeba</td>\n",
       "      <td>http://www.last.fm/music/Morcheeba</td>\n",
       "      <td>http://userserve-ak.last.fm/serve/252/46005111...</td>\n",
       "    </tr>\n",
       "    <tr>\n",
       "      <th>2</th>\n",
       "      <td>2</td>\n",
       "      <td>53</td>\n",
       "      <td>11351</td>\n",
       "      <td>53</td>\n",
       "      <td>Air</td>\n",
       "      <td>http://www.last.fm/music/Air</td>\n",
       "      <td>http://userserve-ak.last.fm/serve/252/251119.jpg</td>\n",
       "    </tr>\n",
       "    <tr>\n",
       "      <th>3</th>\n",
       "      <td>2</td>\n",
       "      <td>54</td>\n",
       "      <td>10300</td>\n",
       "      <td>54</td>\n",
       "      <td>Hooverphonic</td>\n",
       "      <td>http://www.last.fm/music/Hooverphonic</td>\n",
       "      <td>http://userserve-ak.last.fm/serve/252/40553471...</td>\n",
       "    </tr>\n",
       "    <tr>\n",
       "      <th>4</th>\n",
       "      <td>2</td>\n",
       "      <td>55</td>\n",
       "      <td>8983</td>\n",
       "      <td>55</td>\n",
       "      <td>Kylie Minogue</td>\n",
       "      <td>http://www.last.fm/music/Kylie+Minogue</td>\n",
       "      <td>http://userserve-ak.last.fm/serve/252/12740835...</td>\n",
       "    </tr>\n",
       "  </tbody>\n",
       "</table>\n",
       "</div>"
      ],
      "text/plain": [
       "   userID  artistID  weight  id           name  \\\n",
       "0       2        51   13883  51    Duran Duran   \n",
       "1       2        52   11690  52      Morcheeba   \n",
       "2       2        53   11351  53            Air   \n",
       "3       2        54   10300  54   Hooverphonic   \n",
       "4       2        55    8983  55  Kylie Minogue   \n",
       "\n",
       "                                      url  \\\n",
       "0    http://www.last.fm/music/Duran+Duran   \n",
       "1      http://www.last.fm/music/Morcheeba   \n",
       "2            http://www.last.fm/music/Air   \n",
       "3   http://www.last.fm/music/Hooverphonic   \n",
       "4  http://www.last.fm/music/Kylie+Minogue   \n",
       "\n",
       "                                          pictureURL  \n",
       "0   http://userserve-ak.last.fm/serve/252/155668.jpg  \n",
       "1  http://userserve-ak.last.fm/serve/252/46005111...  \n",
       "2   http://userserve-ak.last.fm/serve/252/251119.jpg  \n",
       "3  http://userserve-ak.last.fm/serve/252/40553471...  \n",
       "4  http://userserve-ak.last.fm/serve/252/12740835...  "
      ]
     },
     "execution_count": 9,
     "metadata": {},
     "output_type": "execute_result"
    }
   ],
   "source": [
    "# Merge user_artists with artists\n",
    "ua_artists = pd.merge(user_artists, artists, left_on='artistID', right_on='id', how='left')\n",
    "\n",
    "# Merge user_taggedartists with tags and artists\n",
    "uta_tags = pd.merge(user_taggedartists, tags, left_on='tagID', right_on='tagID', how='left')\n",
    "uta_full = pd.merge(uta_tags, artists, left_on='artistID', right_on='id', how='left')\n",
    "\n",
    "ua_artists.head()"
   ]
  },
  {
   "cell_type": "code",
   "execution_count": 10,
   "id": "f587f94c",
   "metadata": {},
   "outputs": [
    {
     "data": {
      "text/html": [
       "<div>\n",
       "<style scoped>\n",
       "    .dataframe tbody tr th:only-of-type {\n",
       "        vertical-align: middle;\n",
       "    }\n",
       "\n",
       "    .dataframe tbody tr th {\n",
       "        vertical-align: top;\n",
       "    }\n",
       "\n",
       "    .dataframe thead th {\n",
       "        text-align: right;\n",
       "    }\n",
       "</style>\n",
       "<table border=\"1\" class=\"dataframe\">\n",
       "  <thead>\n",
       "    <tr style=\"text-align: right;\">\n",
       "      <th></th>\n",
       "      <th>userID</th>\n",
       "      <th>artistID</th>\n",
       "      <th>tagID</th>\n",
       "      <th>day</th>\n",
       "      <th>month</th>\n",
       "      <th>year</th>\n",
       "      <th>tagValue</th>\n",
       "    </tr>\n",
       "  </thead>\n",
       "  <tbody>\n",
       "    <tr>\n",
       "      <th>0</th>\n",
       "      <td>2</td>\n",
       "      <td>52</td>\n",
       "      <td>13</td>\n",
       "      <td>1</td>\n",
       "      <td>4</td>\n",
       "      <td>2009</td>\n",
       "      <td>chillout</td>\n",
       "    </tr>\n",
       "    <tr>\n",
       "      <th>1</th>\n",
       "      <td>2</td>\n",
       "      <td>52</td>\n",
       "      <td>15</td>\n",
       "      <td>1</td>\n",
       "      <td>4</td>\n",
       "      <td>2009</td>\n",
       "      <td>downtempo</td>\n",
       "    </tr>\n",
       "    <tr>\n",
       "      <th>2</th>\n",
       "      <td>2</td>\n",
       "      <td>52</td>\n",
       "      <td>18</td>\n",
       "      <td>1</td>\n",
       "      <td>4</td>\n",
       "      <td>2009</td>\n",
       "      <td>electronic</td>\n",
       "    </tr>\n",
       "    <tr>\n",
       "      <th>3</th>\n",
       "      <td>2</td>\n",
       "      <td>52</td>\n",
       "      <td>21</td>\n",
       "      <td>1</td>\n",
       "      <td>4</td>\n",
       "      <td>2009</td>\n",
       "      <td>trip-hop</td>\n",
       "    </tr>\n",
       "    <tr>\n",
       "      <th>4</th>\n",
       "      <td>2</td>\n",
       "      <td>52</td>\n",
       "      <td>41</td>\n",
       "      <td>1</td>\n",
       "      <td>4</td>\n",
       "      <td>2009</td>\n",
       "      <td>female vovalists</td>\n",
       "    </tr>\n",
       "  </tbody>\n",
       "</table>\n",
       "</div>"
      ],
      "text/plain": [
       "   userID  artistID  tagID  day  month  year          tagValue\n",
       "0       2        52     13    1      4  2009          chillout\n",
       "1       2        52     15    1      4  2009         downtempo\n",
       "2       2        52     18    1      4  2009        electronic\n",
       "3       2        52     21    1      4  2009          trip-hop\n",
       "4       2        52     41    1      4  2009  female vovalists"
      ]
     },
     "execution_count": 10,
     "metadata": {},
     "output_type": "execute_result"
    }
   ],
   "source": [
    "uta_tags.head()"
   ]
  },
  {
   "cell_type": "code",
   "execution_count": 11,
   "id": "3f352b79",
   "metadata": {},
   "outputs": [
    {
     "data": {
      "text/html": [
       "<div>\n",
       "<style scoped>\n",
       "    .dataframe tbody tr th:only-of-type {\n",
       "        vertical-align: middle;\n",
       "    }\n",
       "\n",
       "    .dataframe tbody tr th {\n",
       "        vertical-align: top;\n",
       "    }\n",
       "\n",
       "    .dataframe thead th {\n",
       "        text-align: right;\n",
       "    }\n",
       "</style>\n",
       "<table border=\"1\" class=\"dataframe\">\n",
       "  <thead>\n",
       "    <tr style=\"text-align: right;\">\n",
       "      <th></th>\n",
       "      <th>userID</th>\n",
       "      <th>artistID</th>\n",
       "      <th>tagID</th>\n",
       "      <th>day</th>\n",
       "      <th>month</th>\n",
       "      <th>year</th>\n",
       "      <th>tagValue</th>\n",
       "      <th>id</th>\n",
       "      <th>name</th>\n",
       "      <th>url</th>\n",
       "      <th>pictureURL</th>\n",
       "    </tr>\n",
       "  </thead>\n",
       "  <tbody>\n",
       "    <tr>\n",
       "      <th>0</th>\n",
       "      <td>2</td>\n",
       "      <td>52</td>\n",
       "      <td>13</td>\n",
       "      <td>1</td>\n",
       "      <td>4</td>\n",
       "      <td>2009</td>\n",
       "      <td>chillout</td>\n",
       "      <td>52.0</td>\n",
       "      <td>Morcheeba</td>\n",
       "      <td>http://www.last.fm/music/Morcheeba</td>\n",
       "      <td>http://userserve-ak.last.fm/serve/252/46005111...</td>\n",
       "    </tr>\n",
       "    <tr>\n",
       "      <th>1</th>\n",
       "      <td>2</td>\n",
       "      <td>52</td>\n",
       "      <td>15</td>\n",
       "      <td>1</td>\n",
       "      <td>4</td>\n",
       "      <td>2009</td>\n",
       "      <td>downtempo</td>\n",
       "      <td>52.0</td>\n",
       "      <td>Morcheeba</td>\n",
       "      <td>http://www.last.fm/music/Morcheeba</td>\n",
       "      <td>http://userserve-ak.last.fm/serve/252/46005111...</td>\n",
       "    </tr>\n",
       "    <tr>\n",
       "      <th>2</th>\n",
       "      <td>2</td>\n",
       "      <td>52</td>\n",
       "      <td>18</td>\n",
       "      <td>1</td>\n",
       "      <td>4</td>\n",
       "      <td>2009</td>\n",
       "      <td>electronic</td>\n",
       "      <td>52.0</td>\n",
       "      <td>Morcheeba</td>\n",
       "      <td>http://www.last.fm/music/Morcheeba</td>\n",
       "      <td>http://userserve-ak.last.fm/serve/252/46005111...</td>\n",
       "    </tr>\n",
       "    <tr>\n",
       "      <th>3</th>\n",
       "      <td>2</td>\n",
       "      <td>52</td>\n",
       "      <td>21</td>\n",
       "      <td>1</td>\n",
       "      <td>4</td>\n",
       "      <td>2009</td>\n",
       "      <td>trip-hop</td>\n",
       "      <td>52.0</td>\n",
       "      <td>Morcheeba</td>\n",
       "      <td>http://www.last.fm/music/Morcheeba</td>\n",
       "      <td>http://userserve-ak.last.fm/serve/252/46005111...</td>\n",
       "    </tr>\n",
       "    <tr>\n",
       "      <th>4</th>\n",
       "      <td>2</td>\n",
       "      <td>52</td>\n",
       "      <td>41</td>\n",
       "      <td>1</td>\n",
       "      <td>4</td>\n",
       "      <td>2009</td>\n",
       "      <td>female vovalists</td>\n",
       "      <td>52.0</td>\n",
       "      <td>Morcheeba</td>\n",
       "      <td>http://www.last.fm/music/Morcheeba</td>\n",
       "      <td>http://userserve-ak.last.fm/serve/252/46005111...</td>\n",
       "    </tr>\n",
       "  </tbody>\n",
       "</table>\n",
       "</div>"
      ],
      "text/plain": [
       "   userID  artistID  tagID  day  month  year          tagValue    id  \\\n",
       "0       2        52     13    1      4  2009          chillout  52.0   \n",
       "1       2        52     15    1      4  2009         downtempo  52.0   \n",
       "2       2        52     18    1      4  2009        electronic  52.0   \n",
       "3       2        52     21    1      4  2009          trip-hop  52.0   \n",
       "4       2        52     41    1      4  2009  female vovalists  52.0   \n",
       "\n",
       "        name                                 url  \\\n",
       "0  Morcheeba  http://www.last.fm/music/Morcheeba   \n",
       "1  Morcheeba  http://www.last.fm/music/Morcheeba   \n",
       "2  Morcheeba  http://www.last.fm/music/Morcheeba   \n",
       "3  Morcheeba  http://www.last.fm/music/Morcheeba   \n",
       "4  Morcheeba  http://www.last.fm/music/Morcheeba   \n",
       "\n",
       "                                          pictureURL  \n",
       "0  http://userserve-ak.last.fm/serve/252/46005111...  \n",
       "1  http://userserve-ak.last.fm/serve/252/46005111...  \n",
       "2  http://userserve-ak.last.fm/serve/252/46005111...  \n",
       "3  http://userserve-ak.last.fm/serve/252/46005111...  \n",
       "4  http://userserve-ak.last.fm/serve/252/46005111...  "
      ]
     },
     "execution_count": 11,
     "metadata": {},
     "output_type": "execute_result"
    }
   ],
   "source": [
    "uta_full.head()"
   ]
  },
  {
   "cell_type": "code",
   "execution_count": 12,
   "id": "30d885d1",
   "metadata": {},
   "outputs": [
    {
     "data": {
      "image/png": "[encoded data removed]",
      "text/plain": [
       "<Figure size 1000x500 with 1 Axes>"
      ]
     },
     "metadata": {},
     "output_type": "display_data"
    }
   ],
   "source": [
    "top_artists = ua_artists.groupby('name')['weight'].sum().sort_values(ascending=False).head(10)\n",
    "\n",
    "plt.figure(figsize=(10,5))\n",
    "sns.barplot(x=top_artists.values, y=top_artists.index, palette='viridis')\n",
    "plt.title('Top 10 Most Listened Artists')\n",
    "plt.xlabel('Total Listens')\n",
    "plt.ylabel('Artist')\n",
    "plt.tight_layout()\n",
    "plt.show()"
   ]
  },
  {
   "cell_type": "code",
   "execution_count": 13,
   "id": "335315cf",
   "metadata": {},
   "outputs": [
    {
     "data": {
      "image/png": "[encoded data removed]",
      "text/plain": [
       "<Figure size 1000x500 with 1 Axes>"
      ]
     },
     "metadata": {},
     "output_type": "display_data"
    }
   ],
   "source": [
    "top_tags = uta_full['tagValue'].value_counts().head(10)\n",
    "\n",
    "plt.figure(figsize=(10,5))\n",
    "sns.barplot(x=top_tags.values, y=top_tags.index, palette='viridis')\n",
    "plt.title('Top 10 Most Used Tags')\n",
    "plt.xlabel('Usage Count')\n",
    "plt.ylabel('Tag')\n",
    "plt.tight_layout()\n",
    "plt.show()"
   ]
  },
  {
   "cell_type": "code",
   "execution_count": 14,
   "id": "28ce763d",
   "metadata": {},
   "outputs": [
    {
     "data": {
      "image/png": "[encoded data removed]",
      "text/plain": [
       "<Figure size 1000x500 with 1 Axes>"
      ]
     },
     "metadata": {},
     "output_type": "display_data"
    }
   ],
   "source": [
    "user_activity = ua_artists.groupby('userID')['weight'].sum().sort_values(ascending=False).head(10)\n",
    "\n",
    "plt.figure(figsize=(10,5))\n",
    "sns.barplot(x=user_activity.values, y=user_activity.index.astype(str), palette='viridis')\n",
    "plt.title('Top 10 Most Active Users')\n",
    "plt.xlabel('Total Listens')\n",
    "plt.ylabel('User ID')\n",
    "plt.tight_layout()\n",
    "plt.show()"
   ]
  },
  {
   "cell_type": "code",
   "execution_count": 15,
   "id": "34ae698b",
   "metadata": {},
   "outputs": [
    {
     "data": {
      "image/png": "[encoded data removed]",
      "text/plain": [
       "<Figure size 800x500 with 1 Axes>"
      ]
     },
     "metadata": {},
     "output_type": "display_data"
    }
   ],
   "source": [
    "friend_counts = user_friends['userID'].value_counts()\n",
    "\n",
    "plt.figure(figsize=(8,5))\n",
    "sns.histplot(friend_counts, bins=30, kde=True)\n",
    "plt.title('Distribution of Number of Friends per User')\n",
    "plt.xlabel('Number of Friends')\n",
    "plt.ylabel('Number of Users')\n",
    "plt.tight_layout()\n",
    "plt.show()\n"
   ]
  },
  {
   "cell_type": "code",
   "execution_count": 16,
   "id": "ebc4e210-a049-4df9-8669-1534fec9cc8d",
   "metadata": {},
   "outputs": [
    {
     "data": {
      "image/png": "[encoded data removed]",
      "text/plain": [
       "<Figure size 800x500 with 1 Axes>"
      ]
     },
     "metadata": {},
     "output_type": "display_data"
    }
   ],
   "source": [
    "weights = ua_artists['weight'].value_counts()\n",
    "\n",
    "plt.figure(figsize=(8,5))\n",
    "sns.histplot(weights, bins=30, kde=True)\n",
    "plt.title('Distribution of Weights')\n",
    "plt.xlabel('Weight (Target Variable)')\n",
    "plt.ylabel('Number of Users')\n",
    "plt.tight_layout()\n",
    "plt.show()"
   ]
  },
  {
   "cell_type": "markdown",
   "id": "4dc102e6-3e65-41b7-8a48-e8f3f74c312b",
   "metadata": {},
   "source": [
    "Weights are heavily right skewed, indicating that a log transformation may be appropriate to reduce skewness."
   ]
  },
  {
   "cell_type": "markdown",
   "id": "94548143",
   "metadata": {},
   "source": [
    "## Modeling"
   ]
  },
  {
   "cell_type": "markdown",
   "id": "6d0c2c65",
   "metadata": {},
   "source": [
    "### Data prep"
   ]
  },
  {
   "cell_type": "code",
   "execution_count": 17,
   "id": "281f2de8",
   "metadata": {},
   "outputs": [],
   "source": [
    "# Map user and artist IDs to indices\n",
    "user_ids = user_artists['userID'].unique()\n",
    "artist_ids = user_artists['artistID'].unique()\n",
    "user_map = {u: i for i, u in enumerate(user_ids)}\n",
    "artist_map = {a: i for i, a in enumerate(artist_ids)}\n",
    "\n",
    "# Create index columns\n",
    "user_artists['user_idx'] = user_artists['userID'].map(user_map)\n",
    "user_artists['artist_idx'] = user_artists['artistID'].map(artist_map)\n",
    "\n",
    "# Log-transform the weights (target) to reduce skew\n",
    "user_artists['log_weight'] = np.log1p(user_artists['weight'])\n",
    "\n",
    "# Prepare arrays for modeling\n",
    "user_idx = user_artists['user_idx'].values\n",
    "artist_idx = user_artists['artist_idx'].values\n",
    "ratings = user_artists['log_weight'].values"
   ]
  },
  {
   "cell_type": "markdown",
   "id": "6bc4cc4b",
   "metadata": {},
   "source": [
    "### Train Test split"
   ]
  },
  {
   "cell_type": "code",
   "execution_count": 18,
   "id": "44c2fa8c",
   "metadata": {},
   "outputs": [],
   "source": [
    "# Split indices for train/test\n",
    "train_idx, test_idx = train_test_split(np.arange(len(ratings)), test_size=0.2, random_state=42)\n",
    "\n",
    "# Training data\n",
    "train_user_idx = user_idx[train_idx]\n",
    "train_artist_idx = artist_idx[train_idx]\n",
    "train_ratings = ratings[train_idx]\n",
    "\n",
    "# Test data\n",
    "test_user_idx = user_idx[test_idx]\n",
    "test_artist_idx = artist_idx[test_idx]\n",
    "test_ratings = ratings[test_idx]"
   ]
  },
  {
   "cell_type": "markdown",
   "id": "38341c60",
   "metadata": {},
   "source": [
    "### Build and Fit Bayesian Probabalistic Matrix Factorization (BPMF) model"
   ]
  },
  {
   "cell_type": "markdown",
   "id": "8eb9ef16-79eb-44ba-b076-30624b2190c6",
   "metadata": {},
   "source": [
    "#### Hyperpriors, latent factor matrices, predictions, noise, and likelihood\n",
    "- mu_u and mu_v are the means for the user and item (artist) latent factors\n",
    "    - vector of length K (number of latent features)\n",
    "    - drawn from normal dist with mean 0 and stdv 1 (Standard Normal)<br>\n",
    "- sigma_u and sigma_v are the stdevs for the user and item latent factors\n",
    "    - drawn from half-normal dist (only positive values)<br>\n",
    "- U: latent factor matrix for users, drawn from normal dist with mean mu_u and stdev sigma_u\n",
    "- V: latent factor matrix from artists, drawn from normal dist with mean mu_v and stdev sigma_v\n",
    "- dot_product: model's predicted rating for each (user, artist) pair\n",
    "- sigma: standard deviation of observation noise learned from the data\n",
    "- R_obs: likelihood\n",
    "    - observed rating for each (user, artist) pair is drawn from a normal distribution centered at model's prediction (mu = dot_product), with some unknown noise (sigma)"
   ]
  },
  {
   "cell_type": "markdown",
   "id": "d9f701e3-2b6e-45cc-b7fc-18ddb06ccefe",
   "metadata": {},
   "source": [
    "#### ADVI (Automatic Differentiation Variational Inference)\n",
    "- ADVI tries to find the best approximation (from a simple family of distributions, typically Gaussian) to model’s true posterior distribution\n",
    "    - As opposed to MCMC, which draws samples from the true posterior\n",
    "    - It does this by minimizing the difference (KL divergence) between the approximate and true posterior, using stochastic optimization\n",
    "- trace: collection of samples for all model's params (latent factors, noise, etc.)"
   ]
  },
  {
   "cell_type": "code",
   "execution_count": 19,
   "id": "17d8a780",
   "metadata": {},
   "outputs": [
    {
     "data": {
      "application/vnd.jupyter.widget-view+json": {
       "model_id": "20647b0a40e644e89f9515e99aaf0f31",
       "version_major": 2,
       "version_minor": 0
      },
      "text/plain": [
       "Output()"
      ]
     },
     "metadata": {},
     "output_type": "display_data"
    },
    {
     "data": {
      "text/html": [
       "<pre style=\"white-space:pre;overflow-x:auto;line-height:normal;font-family:Menlo,'DejaVu Sans Mono',consolas,'Courier New',monospace\"></pre>\n"
      ],
      "text/plain": []
     },
     "metadata": {},
     "output_type": "display_data"
    },
    {
     "name": "stderr",
     "output_type": "stream",
     "text": [
      "Finished [100%]: Average Loss = 1.4047e+05\n"
     ]
    }
   ],
   "source": [
    "num_users = len(user_ids)\n",
    "num_items = len(artist_ids)\n",
    "K = 5  # Latent dimension\n",
    "\n",
    "with pm.Model() as bpmf:\n",
    "    # Hyperpriors\n",
    "    mu_u = pm.Normal('mu_u', mu=0, sigma=1, shape=K)\n",
    "    mu_v = pm.Normal('mu_v', mu=0, sigma=1, shape=K)\n",
    "    sigma_u = pm.HalfNormal('sigma_u', sigma=1)\n",
    "    sigma_v = pm.HalfNormal('sigma_v', sigma=1)\n",
    "\n",
    "    # Latent factors\n",
    "    U = pm.Normal('U', mu=mu_u, sigma=sigma_u, shape=(num_users, K))\n",
    "    V = pm.Normal('V', mu=mu_v, sigma=sigma_v, shape=(num_items, K))\n",
    "\n",
    "    # Predicted ratings for training data\n",
    "    dot_product = (U[train_user_idx] * V[train_artist_idx]).sum(axis=1)\n",
    "\n",
    "    # Observation noise\n",
    "    sigma = pm.HalfNormal('sigma', sigma=1)\n",
    "\n",
    "    # Likelihood\n",
    "    R_obs = pm.Normal('R_obs', mu=dot_product, sigma=sigma, observed=train_ratings)\n",
    "\n",
    "    # ---- ADVI INFERENCE ----\n",
    "    # Fit the model using ADVI (variational inference)\n",
    "    # Result is a variational approximation to the true posterior\n",
    "    approx = pm.fit(n=20000, method='advi')\n",
    "\n",
    "    # Draw posterior samples from the variational approximation\n",
    "    trace = approx.sample(1000)\n"
   ]
  },
  {
   "cell_type": "markdown",
   "id": "6505c7c8",
   "metadata": {},
   "source": [
    "### Posterior Distribution Analysis for Model Parameters"
   ]
  },
  {
   "cell_type": "code",
   "execution_count": null,
   "id": "67cae35a",
   "metadata": {},
   "outputs": [
    {
     "name": "stderr",
     "output_type": "stream",
     "text": [
      "arviz - WARNING - Shape validation failed: input_shape: (1, 1000), minimum_shape: (chains=2, draws=4)\n"
     ]
    }
   ],
   "source": [
    "az.plot_trace(trace, var_names=['sigma'])\n",
    "az.summary(trace, var_names=['sigma','U','V'])"
   ]
  },
  {
   "cell_type": "markdown",
   "id": "c028a545-6568-4310-8c97-a2f96fb871b6",
   "metadata": {},
   "source": [
    "**Table evaluation**<br>\n",
    "The table summarizes the posterior distributions for the model parameters after variational inference. For `sigma` (the observation noise), the mean is 1.433 with a small standard deviation (0.037) and a tight 94% credible interval (1.366 to 1.503), indicating the model has confidently estimated this parameter. The latent factors for users (`U`) and items (`V`) also show reasonable means and standard deviations, with credible intervals that reflect moderate uncertainty. The effective sample sizes (ess_bulk, ess_tail) are high, suggesting stable inference, and `mcse_mean` values are low, indicating precise estimates. The `r_hat` column is NaN, which is expected for ADVI (not MCMC).\n",
    "\n",
    "**Plot evaluation**<br>\n",
    "The left plot shows the posterior density of `sigma`, which is unimodal and symmetric, indicating a well-behaved and well-identified parameter estimate. The right plot is a trace plot of `sigma` from the variational samples; it's randomly scattered around the mean, without trends or drifts. Both plots suggest the inference for `sigma` is reliable."
   ]
  },
  {
   "cell_type": "markdown",
   "id": "05908797",
   "metadata": {},
   "source": [
    "### Predict on Test Set and Calculate Error Metrics"
   ]
  },
  {
   "cell_type": "code",
   "execution_count": null,
   "id": "1f6cc4aa",
   "metadata": {},
   "outputs": [],
   "source": [
    "# Use posterior means for prediction\n",
    "posterior_U = trace.posterior['U'].mean(dim=(\"chain\", \"draw\")).values\n",
    "posterior_V = trace.posterior['V'].mean(dim=(\"chain\", \"draw\")).values\n",
    "\n",
    "# Predict test ratings\n",
    "test_pred_ratings = (posterior_U[test_user_idx] * posterior_V[test_artist_idx]).sum(axis=1)\n",
    "\n",
    "# Compute error metrics\n",
    "rmse = root_mean_squared_error(test_ratings, test_pred_ratings)\n",
    "mae = mean_absolute_error(test_ratings, test_pred_ratings)\n",
    "r_squared = r2_score(test_ratings, test_pred_ratings)\n",
    "\n",
    "print(\"Test Metrics (in Logged Units):\")\n",
    "print(f\"Test RMSE: {rmse:.4f}\")\n",
    "print(f\"Test MAE: {mae:.4f}\")\n",
    "print(f\"Test R^2: {r_squared:.4f}\")"
   ]
  },
  {
   "cell_type": "markdown",
   "id": "3db65516",
   "metadata": {},
   "source": [
    "### Visualize Posterior Predictive Checks"
   ]
  },
  {
   "cell_type": "code",
   "execution_count": null,
   "id": "7eb4b53c",
   "metadata": {},
   "outputs": [],
   "source": [
    "plt.figure(figsize=(7, 7))\n",
    "plt.scatter(test_ratings, test_pred_ratings, alpha=0.2)\n",
    "plt.plot([test_ratings.min(), test_ratings.max()], [test_ratings.min(), test_ratings.max()], 'r--')\n",
    "plt.xlabel('True log(listen count)')\n",
    "plt.ylabel('Predicted log(listen count)')\n",
    "plt.title('BPMF Predictions vs. True Values (Test Set)')\n",
    "plt.show()"
   ]
  },
  {
   "cell_type": "markdown",
   "id": "445538e1-3c42-4fb7-86d0-4741fb3773b1",
   "metadata": {},
   "source": [
    "### Recommended Artists"
   ]
  },
  {
   "cell_type": "code",
   "execution_count": null,
   "id": "a328e039-e9f6-4e23-8d19-077ccd606a5a",
   "metadata": {},
   "outputs": [],
   "source": [
    "user_vec = U[557]\n",
    "\n",
    "# Get the predicted values for the user\n",
    "preds = np.exp(user_vec @ V.T)\n",
    "\n",
    "# Ignore artists that the user has already listened to\n",
    "preds[R.iloc[user_idx, :] > 0] = -np.inf\n",
    "\n",
    "# Get the top k artists\n",
    "#top_k = pred[-k:][::-1]"
   ]
  },
  {
   "cell_type": "code",
   "execution_count": null,
   "id": "85c9d475-6b1c-4ab8-a03a-1fb118803768",
   "metadata": {},
   "outputs": [],
   "source": [
    "type(preds)"
   ]
  },
  {
   "cell_type": "code",
   "execution_count": null,
   "id": "b3a87e22-01d8-47f8-b452-91a244a33f72",
   "metadata": {},
   "outputs": [],
   "source": [
    "# Create a function to recommend artists based on a user's \n",
    "def recommend_top_k(user_idx, U, V, R, k=5):\n",
    "    # Get the user vector from the posterior\n",
    "    user_vec = U[user_idx]\n",
    "\n",
    "    # Get the predicted values for the user\n",
    "    preds = np.exp(user_vec @ V.T)\n",
    "\n",
    "    # Ignore artists that the user has already listened to\n",
    "    preds[R.iloc[user_idx, :] > 0] = -np.inf\n",
    "\n",
    "    # Get the top k artists\n",
    "    top_k = pred[-k:][::-1]\n",
    "    return top_k"
   ]
  },
  {
   "cell_type": "code",
   "execution_count": null,
   "id": "c5fcef57-8ec6-4cce-b6e9-56b555d404c4",
   "metadata": {},
   "outputs": [],
   "source": [
    "# Create a sparse matrix from the user/artist data\n",
    "ua_matrix = user_artists.pivot_table(\n",
    "    index='user_idx', columns='artist_idx', values='weight', fill_value=0\n",
    ")"
   ]
  },
  {
   "cell_type": "code",
   "execution_count": null,
   "id": "32812792-58a6-400f-b510-3cfefdf3fdf8",
   "metadata": {},
   "outputs": [],
   "source": [
    "# Identify the top ten most listened to artists of a random user\n",
    "user_sample = user_artists[user_artists.user_idx == 557]\n",
    "user_sample_top = user_sample.merge(artists, how='left', left_on = 'artistID', right_on = 'id')[['name', 'weight']].sort_values('weight', ascending=False).head(10).reset_index(drop=True)\n",
    "user_sample_top.columns = ['Artist', 'Listens']\n",
    "\n",
    "user_sample_top"
   ]
  },
  {
   "cell_type": "code",
   "execution_count": null,
   "id": "ccca7b8e-568a-4369-8f0f-220aee4b1a04",
   "metadata": {},
   "outputs": [],
   "source": [
    "# Identify recommended artists\n",
    "rec_artist_idx = recommend_top_k(557, posterior_U, posterior_V, ua_matrix, 5)\n",
    "rec_artist_id = [k for (k, v) in artist_map.items() if v in list(rec_artist_idx)]\n",
    "\n",
    "artists[artists['id'].isin(rec_artist_id)]['name']"
   ]
  },
  {
   "cell_type": "code",
   "execution_count": null,
   "id": "5fab7808-2d8c-4931-9a3c-17d784537eb7",
   "metadata": {},
   "outputs": [],
   "source": [
    "print(recommend_top_k(1, posterior_U, posterior_V, ua_matrix, 20))"
   ]
  },
  {
   "cell_type": "code",
   "execution_count": null,
   "id": "2d1daa07-22ea-43d0-bcd6-29040f80a4d3",
   "metadata": {},
   "outputs": [],
   "source": [
    "print(recommend_top_k(1000, posterior_U, posterior_V, ua_matrix, 20))"
   ]
  },
  {
   "cell_type": "code",
   "execution_count": null,
   "id": "5545ac3e-8108-4cb0-be41-fb73ad757df7",
   "metadata": {},
   "outputs": [],
   "source": [
    "!git add 'Recommendation Engine.ipynb'\n",
    "!git commit -m 'code to test sample'"
   ]
  }
 ],
 "metadata": {
  "kernelspec": {
   "display_name": "Python 3 (ipykernel)",
   "language": "python",
   "name": "python3"
  },
  "language_info": {
   "codemirror_mode": {
    "name": "ipython",
    "version": 3
   },
   "file_extension": ".py",
   "mimetype": "text/x-python",
   "name": "python",
   "nbconvert_exporter": "python",
   "pygments_lexer": "ipython3",
   "version": "3.11.11"
  }
 },
 "nbformat": 4,
 "nbformat_minor": 5
}
