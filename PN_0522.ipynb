{
 "cells": [
  {
   "cell_type": "markdown",
   "metadata": {},
   "source": [
    "# ADSP 32014 Final Project\n",
    "\n",
    "Zoe Calianos, Apoorva Gupta, Peyton Nash, Kirthi Rao"
   ]
  },
  {
   "cell_type": "markdown",
   "metadata": {},
   "source": [
    "### Setup"
   ]
  },
  {
   "cell_type": "code",
   "execution_count": 1,
   "metadata": {},
   "outputs": [],
   "source": [
    "import warnings\n",
    "import pandas as pd\n",
    "import numpy as np\n",
    "import matplotlib.pyplot as plt"
   ]
  },
  {
   "cell_type": "code",
   "execution_count": 2,
   "metadata": {},
   "outputs": [],
   "source": [
    "warnings.filterwarnings(\"ignore\")"
   ]
  },
  {
   "cell_type": "code",
   "execution_count": 3,
   "metadata": {},
   "outputs": [],
   "source": [
    "# Load data\n",
    "user_artists = pd.read_csv('./Data/user_artists.dat', sep='\\t',\n",
    "                           names=['userID', 'artistID', 'listen_count'], skiprows=1)\n",
    "artists = pd.read_csv('./Data/artists.dat', sep='\\t',\n",
    "                      names=['artistID', 'name', 'url', 'pictureURL'],\n",
    "                      encoding='latin-1', skiprows=1)\n",
    "\n",
    "tags = pd.read_csv('./Data/tags.dat', sep='\\t', names=['tagID', 'tagValue'], encoding='latin-1', skiprows=1)\n",
    "user_tagged = pd.read_csv('./Data/user_taggedartists.dat', sep='\\t',\n",
    "                          names=['userID', 'artistID', 'tagID'], skiprows=1)\n",
    "\n",
    "artist_tag = user_tagged.merge(tags, on='tagID', how='left')\n"
   ]
  },
  {
   "cell_type": "code",
   "execution_count": 9,
   "metadata": {},
   "outputs": [
    {
     "name": "stdout",
     "output_type": "stream",
     "text": [
      "   userID  artistID  listen_count\n",
      "0       2        51         13883\n",
      "1       2        52         11690\n",
      "2       2        53         11351\n",
      "3       2        54         10300\n",
      "4       2        55          8983\n",
      "\n",
      "Number of user-artist combinations: 92834\n"
     ]
    }
   ],
   "source": [
    "# Check the user_artists file\n",
    "print(user_artists.head())\n",
    "\n",
    "print(f'\\nNumber of user-artist combinations: {user_artists.shape[0]}')"
   ]
  },
  {
   "cell_type": "code",
   "execution_count": 8,
   "metadata": {},
   "outputs": [
    {
     "name": "stdout",
     "output_type": "stream",
     "text": [
      "   artistID               name                                         url  \\\n",
      "0         1       MALICE MIZER       http://www.last.fm/music/MALICE+MIZER   \n",
      "1         2    Diary of Dreams    http://www.last.fm/music/Diary+of+Dreams   \n",
      "2         3  Carpathian Forest  http://www.last.fm/music/Carpathian+Forest   \n",
      "3         4       Moi dix Mois       http://www.last.fm/music/Moi+dix+Mois   \n",
      "4         5        Bella Morte        http://www.last.fm/music/Bella+Morte   \n",
      "\n",
      "                                          pictureURL  \n",
      "0    http://userserve-ak.last.fm/serve/252/10808.jpg  \n",
      "1  http://userserve-ak.last.fm/serve/252/3052066.jpg  \n",
      "2  http://userserve-ak.last.fm/serve/252/40222717...  \n",
      "3  http://userserve-ak.last.fm/serve/252/54697835...  \n",
      "4  http://userserve-ak.last.fm/serve/252/14789013...  \n",
      "\n",
      "Number of artists: 17632\n"
     ]
    }
   ],
   "source": [
    "print(artists.head())\n",
    "\n",
    "print(f'\\nNumber of artists: {artists.shape[0]}')"
   ]
  },
  {
   "cell_type": "code",
   "execution_count": 20,
   "metadata": {},
   "outputs": [
    {
     "data": {
      "text/plain": [
       "artistID\n",
       "289      2393140\n",
       "72       1301308\n",
       "89       1291387\n",
       "292      1058405\n",
       "498       963449\n",
       "          ...   \n",
       "17468          1\n",
       "14309          1\n",
       "14308          1\n",
       "17168          1\n",
       "17170          1\n",
       "Name: listen_count, Length: 17632, dtype: int64"
      ]
     },
     "execution_count": 20,
     "metadata": {},
     "output_type": "execute_result"
    }
   ],
   "source": [
    "user_artists.groupby(user_artists.artistID).listen_count.sum().sort_values(ascending=False)"
   ]
  },
  {
   "cell_type": "code",
   "execution_count": null,
   "metadata": {},
   "outputs": [],
   "source": [
    "'argon2:$argon2id$v=19$m=10240,t=10,p=8$9XHEN41Fx2KmV+0YoNnIHA$ZgJVEIfzXyDeUYG5HCYMAxDLAkEnHueUpiJkfUQ3gHg'"
   ]
  }
 ],
 "metadata": {
  "kernelspec": {
   "display_name": "32014_assignments",
   "language": "python",
   "name": "python3"
  },
  "language_info": {
   "codemirror_mode": {
    "name": "ipython",
    "version": 3
   },
   "file_extension": ".py",
   "mimetype": "text/x-python",
   "name": "python",
   "nbconvert_exporter": "python",
   "pygments_lexer": "ipython3",
   "version": "3.10.17"
  }
 },
 "nbformat": 4,
 "nbformat_minor": 2
}
